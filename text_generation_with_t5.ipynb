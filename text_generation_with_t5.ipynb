{
  "metadata": {
    "accelerator": "GPU",
    "colab": {
      "gpuType": "T4",
      "provenance": []
    },
    "kernelspec": {
      "name": "python3",
      "display_name": "Python 3",
      "language": "python"
    },
    "language_info": {
      "name": "python",
      "version": "3.10.12",
      "mimetype": "text/x-python",
      "codemirror_mode": {
        "name": "ipython",
        "version": 3
      },
      "pygments_lexer": "ipython3",
      "nbconvert_exporter": "python",
      "file_extension": ".py"
    },
    "widgets": {
      "application/vnd.jupyter.widget-state+json": {
        "01af6b7122f94b9f92853de3f80a3aad": {
          "model_module": "@jupyter-widgets/controls",
          "model_module_version": "1.5.0",
          "model_name": "ProgressStyleModel",
          "state": {
            "_model_module": "@jupyter-widgets/controls",
            "_model_module_version": "1.5.0",
            "_model_name": "ProgressStyleModel",
            "_view_count": null,
            "_view_module": "@jupyter-widgets/base",
            "_view_module_version": "1.2.0",
            "_view_name": "StyleView",
            "bar_color": null,
            "description_width": ""
          }
        },
        "0a0ec6e272714502af8b61fa11bd9e72": {
          "model_module": "@jupyter-widgets/controls",
          "model_module_version": "1.5.0",
          "model_name": "DescriptionStyleModel",
          "state": {
            "_model_module": "@jupyter-widgets/controls",
            "_model_module_version": "1.5.0",
            "_model_name": "DescriptionStyleModel",
            "_view_count": null,
            "_view_module": "@jupyter-widgets/base",
            "_view_module_version": "1.2.0",
            "_view_name": "StyleView",
            "description_width": ""
          }
        },
        "0ea8dcb0d4c64390b7178cddcb1598ee": {
          "model_module": "@jupyter-widgets/base",
          "model_module_version": "1.2.0",
          "model_name": "LayoutModel",
          "state": {
            "_model_module": "@jupyter-widgets/base",
            "_model_module_version": "1.2.0",
            "_model_name": "LayoutModel",
            "_view_count": null,
            "_view_module": "@jupyter-widgets/base",
            "_view_module_version": "1.2.0",
            "_view_name": "LayoutView",
            "align_content": null,
            "align_items": null,
            "align_self": null,
            "border": null,
            "bottom": null,
            "display": null,
            "flex": null,
            "flex_flow": null,
            "grid_area": null,
            "grid_auto_columns": null,
            "grid_auto_flow": null,
            "grid_auto_rows": null,
            "grid_column": null,
            "grid_gap": null,
            "grid_row": null,
            "grid_template_areas": null,
            "grid_template_columns": null,
            "grid_template_rows": null,
            "height": null,
            "justify_content": null,
            "justify_items": null,
            "left": null,
            "margin": null,
            "max_height": null,
            "max_width": null,
            "min_height": null,
            "min_width": null,
            "object_fit": null,
            "object_position": null,
            "order": null,
            "overflow": null,
            "overflow_x": null,
            "overflow_y": null,
            "padding": null,
            "right": null,
            "top": null,
            "visibility": null,
            "width": null
          }
        },
        "12e4349e1f224c32b35afb738c584c89": {
          "model_module": "@jupyter-widgets/base",
          "model_module_version": "1.2.0",
          "model_name": "LayoutModel",
          "state": {
            "_model_module": "@jupyter-widgets/base",
            "_model_module_version": "1.2.0",
            "_model_name": "LayoutModel",
            "_view_count": null,
            "_view_module": "@jupyter-widgets/base",
            "_view_module_version": "1.2.0",
            "_view_name": "LayoutView",
            "align_content": null,
            "align_items": null,
            "align_self": null,
            "border": null,
            "bottom": null,
            "display": null,
            "flex": null,
            "flex_flow": null,
            "grid_area": null,
            "grid_auto_columns": null,
            "grid_auto_flow": null,
            "grid_auto_rows": null,
            "grid_column": null,
            "grid_gap": null,
            "grid_row": null,
            "grid_template_areas": null,
            "grid_template_columns": null,
            "grid_template_rows": null,
            "height": null,
            "justify_content": null,
            "justify_items": null,
            "left": null,
            "margin": null,
            "max_height": null,
            "max_width": null,
            "min_height": null,
            "min_width": null,
            "object_fit": null,
            "object_position": null,
            "order": null,
            "overflow": null,
            "overflow_x": null,
            "overflow_y": null,
            "padding": null,
            "right": null,
            "top": null,
            "visibility": null,
            "width": null
          }
        },
        "1590f17082ae4b2987351c5a4756fd2a": {
          "model_module": "@jupyter-widgets/controls",
          "model_module_version": "1.5.0",
          "model_name": "DescriptionStyleModel",
          "state": {
            "_model_module": "@jupyter-widgets/controls",
            "_model_module_version": "1.5.0",
            "_model_name": "DescriptionStyleModel",
            "_view_count": null,
            "_view_module": "@jupyter-widgets/base",
            "_view_module_version": "1.2.0",
            "_view_name": "StyleView",
            "description_width": ""
          }
        },
        "1c82b5894e104256b9a66ab2120a884f": {
          "model_module": "@jupyter-widgets/controls",
          "model_module_version": "1.5.0",
          "model_name": "HBoxModel",
          "state": {
            "_dom_classes": [],
            "_model_module": "@jupyter-widgets/controls",
            "_model_module_version": "1.5.0",
            "_model_name": "HBoxModel",
            "_view_count": null,
            "_view_module": "@jupyter-widgets/controls",
            "_view_module_version": "1.5.0",
            "_view_name": "HBoxView",
            "box_style": "",
            "children": [
              "IPY_MODEL_3de4b5230d234d94b4764d9335f385d0",
              "IPY_MODEL_eb0b1b5cdc4a4d618659a5e82d238fe4",
              "IPY_MODEL_adfeb43799534a7eaeef7209dc92496a"
            ],
            "layout": "IPY_MODEL_d3b4af4b7e274b19b734eecf7b50c3d7"
          }
        },
        "218667d6f8d54600a202e64493853ddd": {
          "model_module": "@jupyter-widgets/controls",
          "model_module_version": "1.5.0",
          "model_name": "ProgressStyleModel",
          "state": {
            "_model_module": "@jupyter-widgets/controls",
            "_model_module_version": "1.5.0",
            "_model_name": "ProgressStyleModel",
            "_view_count": null,
            "_view_module": "@jupyter-widgets/base",
            "_view_module_version": "1.2.0",
            "_view_name": "StyleView",
            "bar_color": null,
            "description_width": ""
          }
        },
        "21e71575ee3d420e9631d2c3de2aa20d": {
          "model_module": "@jupyter-widgets/controls",
          "model_module_version": "1.5.0",
          "model_name": "HTMLModel",
          "state": {
            "_dom_classes": [],
            "_model_module": "@jupyter-widgets/controls",
            "_model_module_version": "1.5.0",
            "_model_name": "HTMLModel",
            "_view_count": null,
            "_view_module": "@jupyter-widgets/controls",
            "_view_module_version": "1.5.0",
            "_view_name": "HTMLView",
            "description": "",
            "description_tooltip": null,
            "layout": "IPY_MODEL_a4375b4a66dc40dbb6018dd77c6e5d74",
            "placeholder": "​",
            "style": "IPY_MODEL_c7d37106d60b4aa58f0e9fdf07093497",
            "value": "Downloading (…)lve/main/config.json: 100%"
          }
        },
        "2434567e33e84977a029b1658a8bd679": {
          "model_module": "@jupyter-widgets/controls",
          "model_module_version": "1.5.0",
          "model_name": "HTMLModel",
          "state": {
            "_dom_classes": [],
            "_model_module": "@jupyter-widgets/controls",
            "_model_module_version": "1.5.0",
            "_model_name": "HTMLModel",
            "_view_count": null,
            "_view_module": "@jupyter-widgets/controls",
            "_view_module_version": "1.5.0",
            "_view_name": "HTMLView",
            "description": "",
            "description_tooltip": null,
            "layout": "IPY_MODEL_8efbdae5975648aa8126c51a15ab4689",
            "placeholder": "​",
            "style": "IPY_MODEL_fb43975c59904fb788a7be63f56168fd",
            "value": " 665/665 [00:00&lt;00:00, 16.6kB/s]"
          }
        },
        "26d7fc2cb8444bf2b049ed3db30cea28": {
          "model_module": "@jupyter-widgets/controls",
          "model_module_version": "1.5.0",
          "model_name": "HBoxModel",
          "state": {
            "_dom_classes": [],
            "_model_module": "@jupyter-widgets/controls",
            "_model_module_version": "1.5.0",
            "_model_name": "HBoxModel",
            "_view_count": null,
            "_view_module": "@jupyter-widgets/controls",
            "_view_module_version": "1.5.0",
            "_view_name": "HBoxView",
            "box_style": "",
            "children": [
              "IPY_MODEL_ec9577bb1470481887712cf0bc3ff34e",
              "IPY_MODEL_89b5173a4bfa4495806b4827ab70a047",
              "IPY_MODEL_63b3411ab85f4c8b9c8c54bbf31bd015"
            ],
            "layout": "IPY_MODEL_cf11b6b7ceab45eea6abe1c12dd08ac2"
          }
        },
        "2a13413908f24ca8ae6da6b0f3bd8508": {
          "model_module": "@jupyter-widgets/controls",
          "model_module_version": "1.5.0",
          "model_name": "HTMLModel",
          "state": {
            "_dom_classes": [],
            "_model_module": "@jupyter-widgets/controls",
            "_model_module_version": "1.5.0",
            "_model_name": "HTMLModel",
            "_view_count": null,
            "_view_module": "@jupyter-widgets/controls",
            "_view_module_version": "1.5.0",
            "_view_name": "HTMLView",
            "description": "",
            "description_tooltip": null,
            "layout": "IPY_MODEL_de701273cea0494f9c412d5facb2295a",
            "placeholder": "​",
            "style": "IPY_MODEL_39462eed46564c6c9a862d9c3e974e86",
            "value": " 1.36M/1.36M [00:00&lt;00:00, 20.0MB/s]"
          }
        },
        "2c35fa729cc34ac7b02fc67612f275c7": {
          "model_module": "@jupyter-widgets/controls",
          "model_module_version": "1.5.0",
          "model_name": "DescriptionStyleModel",
          "state": {
            "_model_module": "@jupyter-widgets/controls",
            "_model_module_version": "1.5.0",
            "_model_name": "DescriptionStyleModel",
            "_view_count": null,
            "_view_module": "@jupyter-widgets/base",
            "_view_module_version": "1.2.0",
            "_view_name": "StyleView",
            "description_width": ""
          }
        },
        "33fff3f80af14f7f9958e12c5c98f348": {
          "model_module": "@jupyter-widgets/controls",
          "model_module_version": "1.5.0",
          "model_name": "HBoxModel",
          "state": {
            "_dom_classes": [],
            "_model_module": "@jupyter-widgets/controls",
            "_model_module_version": "1.5.0",
            "_model_name": "HBoxModel",
            "_view_count": null,
            "_view_module": "@jupyter-widgets/controls",
            "_view_module_version": "1.5.0",
            "_view_name": "HBoxView",
            "box_style": "",
            "children": [
              "IPY_MODEL_8b0708da99cd4da3a6da82cb35ce201d",
              "IPY_MODEL_ae62dfc3f5aa4912ab890213eee722a0",
              "IPY_MODEL_2a13413908f24ca8ae6da6b0f3bd8508"
            ],
            "layout": "IPY_MODEL_6bc06ec297e745729948ddc96765d0b1"
          }
        },
        "355b44689b6340c692c0969b73da9619": {
          "model_module": "@jupyter-widgets/base",
          "model_module_version": "1.2.0",
          "model_name": "LayoutModel",
          "state": {
            "_model_module": "@jupyter-widgets/base",
            "_model_module_version": "1.2.0",
            "_model_name": "LayoutModel",
            "_view_count": null,
            "_view_module": "@jupyter-widgets/base",
            "_view_module_version": "1.2.0",
            "_view_name": "LayoutView",
            "align_content": null,
            "align_items": null,
            "align_self": null,
            "border": null,
            "bottom": null,
            "display": null,
            "flex": null,
            "flex_flow": null,
            "grid_area": null,
            "grid_auto_columns": null,
            "grid_auto_flow": null,
            "grid_auto_rows": null,
            "grid_column": null,
            "grid_gap": null,
            "grid_row": null,
            "grid_template_areas": null,
            "grid_template_columns": null,
            "grid_template_rows": null,
            "height": null,
            "justify_content": null,
            "justify_items": null,
            "left": null,
            "margin": null,
            "max_height": null,
            "max_width": null,
            "min_height": null,
            "min_width": null,
            "object_fit": null,
            "object_position": null,
            "order": null,
            "overflow": null,
            "overflow_x": null,
            "overflow_y": null,
            "padding": null,
            "right": null,
            "top": null,
            "visibility": null,
            "width": null
          }
        },
        "3743f1ac6cc14cc180e94c425faa980a": {
          "model_module": "@jupyter-widgets/controls",
          "model_module_version": "1.5.0",
          "model_name": "HBoxModel",
          "state": {
            "_dom_classes": [],
            "_model_module": "@jupyter-widgets/controls",
            "_model_module_version": "1.5.0",
            "_model_name": "HBoxModel",
            "_view_count": null,
            "_view_module": "@jupyter-widgets/controls",
            "_view_module_version": "1.5.0",
            "_view_name": "HBoxView",
            "box_style": "",
            "children": [
              "IPY_MODEL_a03dc40261bb40378c39d1c839b3feb7",
              "IPY_MODEL_4fcc675ac05246e3a48fb5e297f159b5",
              "IPY_MODEL_e2343dc95a2c4d329fc58aaec629ab14"
            ],
            "layout": "IPY_MODEL_6d1374883b394fbb983913ae0e6b9816"
          }
        },
        "39462eed46564c6c9a862d9c3e974e86": {
          "model_module": "@jupyter-widgets/controls",
          "model_module_version": "1.5.0",
          "model_name": "DescriptionStyleModel",
          "state": {
            "_model_module": "@jupyter-widgets/controls",
            "_model_module_version": "1.5.0",
            "_model_name": "DescriptionStyleModel",
            "_view_count": null,
            "_view_module": "@jupyter-widgets/base",
            "_view_module_version": "1.2.0",
            "_view_name": "StyleView",
            "description_width": ""
          }
        },
        "3ada8125ab50465e9b0223385fc8359b": {
          "model_module": "@jupyter-widgets/controls",
          "model_module_version": "1.5.0",
          "model_name": "ProgressStyleModel",
          "state": {
            "_model_module": "@jupyter-widgets/controls",
            "_model_module_version": "1.5.0",
            "_model_name": "ProgressStyleModel",
            "_view_count": null,
            "_view_module": "@jupyter-widgets/base",
            "_view_module_version": "1.2.0",
            "_view_name": "StyleView",
            "bar_color": null,
            "description_width": ""
          }
        },
        "3de4b5230d234d94b4764d9335f385d0": {
          "model_module": "@jupyter-widgets/controls",
          "model_module_version": "1.5.0",
          "model_name": "HTMLModel",
          "state": {
            "_dom_classes": [],
            "_model_module": "@jupyter-widgets/controls",
            "_model_module_version": "1.5.0",
            "_model_name": "HTMLModel",
            "_view_count": null,
            "_view_module": "@jupyter-widgets/controls",
            "_view_module_version": "1.5.0",
            "_view_name": "HTMLView",
            "description": "",
            "description_tooltip": null,
            "layout": "IPY_MODEL_a1b52da2a2f14b9094a3ea7b4b7bce26",
            "placeholder": "​",
            "style": "IPY_MODEL_1590f17082ae4b2987351c5a4756fd2a",
            "value": "Downloading (…)olve/main/merges.txt: 100%"
          }
        },
        "3f6fe5ab4081468db79ce913b6a386cc": {
          "model_module": "@jupyter-widgets/base",
          "model_module_version": "1.2.0",
          "model_name": "LayoutModel",
          "state": {
            "_model_module": "@jupyter-widgets/base",
            "_model_module_version": "1.2.0",
            "_model_name": "LayoutModel",
            "_view_count": null,
            "_view_module": "@jupyter-widgets/base",
            "_view_module_version": "1.2.0",
            "_view_name": "LayoutView",
            "align_content": null,
            "align_items": null,
            "align_self": null,
            "border": null,
            "bottom": null,
            "display": null,
            "flex": null,
            "flex_flow": null,
            "grid_area": null,
            "grid_auto_columns": null,
            "grid_auto_flow": null,
            "grid_auto_rows": null,
            "grid_column": null,
            "grid_gap": null,
            "grid_row": null,
            "grid_template_areas": null,
            "grid_template_columns": null,
            "grid_template_rows": null,
            "height": null,
            "justify_content": null,
            "justify_items": null,
            "left": null,
            "margin": null,
            "max_height": null,
            "max_width": null,
            "min_height": null,
            "min_width": null,
            "object_fit": null,
            "object_position": null,
            "order": null,
            "overflow": null,
            "overflow_x": null,
            "overflow_y": null,
            "padding": null,
            "right": null,
            "top": null,
            "visibility": null,
            "width": null
          }
        },
        "4781e81614f14e3bb8719f8211278c82": {
          "model_module": "@jupyter-widgets/controls",
          "model_module_version": "1.5.0",
          "model_name": "FloatProgressModel",
          "state": {
            "_dom_classes": [],
            "_model_module": "@jupyter-widgets/controls",
            "_model_module_version": "1.5.0",
            "_model_name": "FloatProgressModel",
            "_view_count": null,
            "_view_module": "@jupyter-widgets/controls",
            "_view_module_version": "1.5.0",
            "_view_name": "ProgressView",
            "bar_style": "success",
            "description": "",
            "description_tooltip": null,
            "layout": "IPY_MODEL_50a0c9b276dc4207b6cff26e43598374",
            "max": 548118077,
            "min": 0,
            "orientation": "horizontal",
            "style": "IPY_MODEL_3ada8125ab50465e9b0223385fc8359b",
            "value": 548118077
          }
        },
        "487598fbe67d4ed2a7bb1afdbb3917d1": {
          "model_module": "@jupyter-widgets/controls",
          "model_module_version": "1.5.0",
          "model_name": "DescriptionStyleModel",
          "state": {
            "_model_module": "@jupyter-widgets/controls",
            "_model_module_version": "1.5.0",
            "_model_name": "DescriptionStyleModel",
            "_view_count": null,
            "_view_module": "@jupyter-widgets/base",
            "_view_module_version": "1.2.0",
            "_view_name": "StyleView",
            "description_width": ""
          }
        },
        "4ddcf8ff3dd04ed2bd5e14ba031e80f0": {
          "model_module": "@jupyter-widgets/controls",
          "model_module_version": "1.5.0",
          "model_name": "DescriptionStyleModel",
          "state": {
            "_model_module": "@jupyter-widgets/controls",
            "_model_module_version": "1.5.0",
            "_model_name": "DescriptionStyleModel",
            "_view_count": null,
            "_view_module": "@jupyter-widgets/base",
            "_view_module_version": "1.2.0",
            "_view_name": "StyleView",
            "description_width": ""
          }
        },
        "4fcc675ac05246e3a48fb5e297f159b5": {
          "model_module": "@jupyter-widgets/controls",
          "model_module_version": "1.5.0",
          "model_name": "FloatProgressModel",
          "state": {
            "_dom_classes": [],
            "_model_module": "@jupyter-widgets/controls",
            "_model_module_version": "1.5.0",
            "_model_name": "FloatProgressModel",
            "_view_count": null,
            "_view_module": "@jupyter-widgets/controls",
            "_view_module_version": "1.5.0",
            "_view_name": "ProgressView",
            "bar_style": "success",
            "description": "",
            "description_tooltip": null,
            "layout": "IPY_MODEL_68587b5fd0454d33a1699dc71ef0dbee",
            "max": 124,
            "min": 0,
            "orientation": "horizontal",
            "style": "IPY_MODEL_7a5e230756aa40848c615b1700894bb8",
            "value": 124
          }
        },
        "50a0c9b276dc4207b6cff26e43598374": {
          "model_module": "@jupyter-widgets/base",
          "model_module_version": "1.2.0",
          "model_name": "LayoutModel",
          "state": {
            "_model_module": "@jupyter-widgets/base",
            "_model_module_version": "1.2.0",
            "_model_name": "LayoutModel",
            "_view_count": null,
            "_view_module": "@jupyter-widgets/base",
            "_view_module_version": "1.2.0",
            "_view_name": "LayoutView",
            "align_content": null,
            "align_items": null,
            "align_self": null,
            "border": null,
            "bottom": null,
            "display": null,
            "flex": null,
            "flex_flow": null,
            "grid_area": null,
            "grid_auto_columns": null,
            "grid_auto_flow": null,
            "grid_auto_rows": null,
            "grid_column": null,
            "grid_gap": null,
            "grid_row": null,
            "grid_template_areas": null,
            "grid_template_columns": null,
            "grid_template_rows": null,
            "height": null,
            "justify_content": null,
            "justify_items": null,
            "left": null,
            "margin": null,
            "max_height": null,
            "max_width": null,
            "min_height": null,
            "min_width": null,
            "object_fit": null,
            "object_position": null,
            "order": null,
            "overflow": null,
            "overflow_x": null,
            "overflow_y": null,
            "padding": null,
            "right": null,
            "top": null,
            "visibility": null,
            "width": null
          }
        },
        "5221011e370c4a46ba1b037492e881d4": {
          "model_module": "@jupyter-widgets/controls",
          "model_module_version": "1.5.0",
          "model_name": "ProgressStyleModel",
          "state": {
            "_model_module": "@jupyter-widgets/controls",
            "_model_module_version": "1.5.0",
            "_model_name": "ProgressStyleModel",
            "_view_count": null,
            "_view_module": "@jupyter-widgets/base",
            "_view_module_version": "1.2.0",
            "_view_name": "StyleView",
            "bar_color": null,
            "description_width": ""
          }
        },
        "55c26c326bc149fda88db432fe91882b": {
          "model_module": "@jupyter-widgets/base",
          "model_module_version": "1.2.0",
          "model_name": "LayoutModel",
          "state": {
            "_model_module": "@jupyter-widgets/base",
            "_model_module_version": "1.2.0",
            "_model_name": "LayoutModel",
            "_view_count": null,
            "_view_module": "@jupyter-widgets/base",
            "_view_module_version": "1.2.0",
            "_view_name": "LayoutView",
            "align_content": null,
            "align_items": null,
            "align_self": null,
            "border": null,
            "bottom": null,
            "display": null,
            "flex": null,
            "flex_flow": null,
            "grid_area": null,
            "grid_auto_columns": null,
            "grid_auto_flow": null,
            "grid_auto_rows": null,
            "grid_column": null,
            "grid_gap": null,
            "grid_row": null,
            "grid_template_areas": null,
            "grid_template_columns": null,
            "grid_template_rows": null,
            "height": null,
            "justify_content": null,
            "justify_items": null,
            "left": null,
            "margin": null,
            "max_height": null,
            "max_width": null,
            "min_height": null,
            "min_width": null,
            "object_fit": null,
            "object_position": null,
            "order": null,
            "overflow": null,
            "overflow_x": null,
            "overflow_y": null,
            "padding": null,
            "right": null,
            "top": null,
            "visibility": null,
            "width": null
          }
        },
        "5992bd1e96a64febb17f4cef86fec248": {
          "model_module": "@jupyter-widgets/controls",
          "model_module_version": "1.5.0",
          "model_name": "HBoxModel",
          "state": {
            "_dom_classes": [],
            "_model_module": "@jupyter-widgets/controls",
            "_model_module_version": "1.5.0",
            "_model_name": "HBoxModel",
            "_view_count": null,
            "_view_module": "@jupyter-widgets/controls",
            "_view_module_version": "1.5.0",
            "_view_name": "HBoxView",
            "box_style": "",
            "children": [
              "IPY_MODEL_f204e6ff280741adb9b95f74e8419c30",
              "IPY_MODEL_4781e81614f14e3bb8719f8211278c82",
              "IPY_MODEL_66f1048288c642ce97cf23f62a01250d"
            ],
            "layout": "IPY_MODEL_0ea8dcb0d4c64390b7178cddcb1598ee"
          }
        },
        "5f0270c8749f40d08fde1a3d0cd5e3e0": {
          "model_module": "@jupyter-widgets/base",
          "model_module_version": "1.2.0",
          "model_name": "LayoutModel",
          "state": {
            "_model_module": "@jupyter-widgets/base",
            "_model_module_version": "1.2.0",
            "_model_name": "LayoutModel",
            "_view_count": null,
            "_view_module": "@jupyter-widgets/base",
            "_view_module_version": "1.2.0",
            "_view_name": "LayoutView",
            "align_content": null,
            "align_items": null,
            "align_self": null,
            "border": null,
            "bottom": null,
            "display": null,
            "flex": null,
            "flex_flow": null,
            "grid_area": null,
            "grid_auto_columns": null,
            "grid_auto_flow": null,
            "grid_auto_rows": null,
            "grid_column": null,
            "grid_gap": null,
            "grid_row": null,
            "grid_template_areas": null,
            "grid_template_columns": null,
            "grid_template_rows": null,
            "height": null,
            "justify_content": null,
            "justify_items": null,
            "left": null,
            "margin": null,
            "max_height": null,
            "max_width": null,
            "min_height": null,
            "min_width": null,
            "object_fit": null,
            "object_position": null,
            "order": null,
            "overflow": null,
            "overflow_x": null,
            "overflow_y": null,
            "padding": null,
            "right": null,
            "top": null,
            "visibility": null,
            "width": null
          }
        },
        "63b3411ab85f4c8b9c8c54bbf31bd015": {
          "model_module": "@jupyter-widgets/controls",
          "model_module_version": "1.5.0",
          "model_name": "HTMLModel",
          "state": {
            "_dom_classes": [],
            "_model_module": "@jupyter-widgets/controls",
            "_model_module_version": "1.5.0",
            "_model_name": "HTMLModel",
            "_view_count": null,
            "_view_module": "@jupyter-widgets/controls",
            "_view_module_version": "1.5.0",
            "_view_name": "HTMLView",
            "description": "",
            "description_tooltip": null,
            "layout": "IPY_MODEL_c4dc4b21a9b1443687c519bd685122d1",
            "placeholder": "​",
            "style": "IPY_MODEL_8c3678af621b4dea8ee95a6445caa348",
            "value": " 1.04M/1.04M [00:00&lt;00:00, 6.54MB/s]"
          }
        },
        "66f1048288c642ce97cf23f62a01250d": {
          "model_module": "@jupyter-widgets/controls",
          "model_module_version": "1.5.0",
          "model_name": "HTMLModel",
          "state": {
            "_dom_classes": [],
            "_model_module": "@jupyter-widgets/controls",
            "_model_module_version": "1.5.0",
            "_model_name": "HTMLModel",
            "_view_count": null,
            "_view_module": "@jupyter-widgets/controls",
            "_view_module_version": "1.5.0",
            "_view_name": "HTMLView",
            "description": "",
            "description_tooltip": null,
            "layout": "IPY_MODEL_55c26c326bc149fda88db432fe91882b",
            "placeholder": "​",
            "style": "IPY_MODEL_ff1f06e2cb6540d7b176646ff8337428",
            "value": " 548M/548M [00:06&lt;00:00, 94.9MB/s]"
          }
        },
        "67c08397b8aa4c7da958e9ec244366bc": {
          "model_module": "@jupyter-widgets/base",
          "model_module_version": "1.2.0",
          "model_name": "LayoutModel",
          "state": {
            "_model_module": "@jupyter-widgets/base",
            "_model_module_version": "1.2.0",
            "_model_name": "LayoutModel",
            "_view_count": null,
            "_view_module": "@jupyter-widgets/base",
            "_view_module_version": "1.2.0",
            "_view_name": "LayoutView",
            "align_content": null,
            "align_items": null,
            "align_self": null,
            "border": null,
            "bottom": null,
            "display": null,
            "flex": null,
            "flex_flow": null,
            "grid_area": null,
            "grid_auto_columns": null,
            "grid_auto_flow": null,
            "grid_auto_rows": null,
            "grid_column": null,
            "grid_gap": null,
            "grid_row": null,
            "grid_template_areas": null,
            "grid_template_columns": null,
            "grid_template_rows": null,
            "height": null,
            "justify_content": null,
            "justify_items": null,
            "left": null,
            "margin": null,
            "max_height": null,
            "max_width": null,
            "min_height": null,
            "min_width": null,
            "object_fit": null,
            "object_position": null,
            "order": null,
            "overflow": null,
            "overflow_x": null,
            "overflow_y": null,
            "padding": null,
            "right": null,
            "top": null,
            "visibility": null,
            "width": null
          }
        },
        "68587b5fd0454d33a1699dc71ef0dbee": {
          "model_module": "@jupyter-widgets/base",
          "model_module_version": "1.2.0",
          "model_name": "LayoutModel",
          "state": {
            "_model_module": "@jupyter-widgets/base",
            "_model_module_version": "1.2.0",
            "_model_name": "LayoutModel",
            "_view_count": null,
            "_view_module": "@jupyter-widgets/base",
            "_view_module_version": "1.2.0",
            "_view_name": "LayoutView",
            "align_content": null,
            "align_items": null,
            "align_self": null,
            "border": null,
            "bottom": null,
            "display": null,
            "flex": null,
            "flex_flow": null,
            "grid_area": null,
            "grid_auto_columns": null,
            "grid_auto_flow": null,
            "grid_auto_rows": null,
            "grid_column": null,
            "grid_gap": null,
            "grid_row": null,
            "grid_template_areas": null,
            "grid_template_columns": null,
            "grid_template_rows": null,
            "height": null,
            "justify_content": null,
            "justify_items": null,
            "left": null,
            "margin": null,
            "max_height": null,
            "max_width": null,
            "min_height": null,
            "min_width": null,
            "object_fit": null,
            "object_position": null,
            "order": null,
            "overflow": null,
            "overflow_x": null,
            "overflow_y": null,
            "padding": null,
            "right": null,
            "top": null,
            "visibility": null,
            "width": null
          }
        },
        "6bc06ec297e745729948ddc96765d0b1": {
          "model_module": "@jupyter-widgets/base",
          "model_module_version": "1.2.0",
          "model_name": "LayoutModel",
          "state": {
            "_model_module": "@jupyter-widgets/base",
            "_model_module_version": "1.2.0",
            "_model_name": "LayoutModel",
            "_view_count": null,
            "_view_module": "@jupyter-widgets/base",
            "_view_module_version": "1.2.0",
            "_view_name": "LayoutView",
            "align_content": null,
            "align_items": null,
            "align_self": null,
            "border": null,
            "bottom": null,
            "display": null,
            "flex": null,
            "flex_flow": null,
            "grid_area": null,
            "grid_auto_columns": null,
            "grid_auto_flow": null,
            "grid_auto_rows": null,
            "grid_column": null,
            "grid_gap": null,
            "grid_row": null,
            "grid_template_areas": null,
            "grid_template_columns": null,
            "grid_template_rows": null,
            "height": null,
            "justify_content": null,
            "justify_items": null,
            "left": null,
            "margin": null,
            "max_height": null,
            "max_width": null,
            "min_height": null,
            "min_width": null,
            "object_fit": null,
            "object_position": null,
            "order": null,
            "overflow": null,
            "overflow_x": null,
            "overflow_y": null,
            "padding": null,
            "right": null,
            "top": null,
            "visibility": null,
            "width": null
          }
        },
        "6d1374883b394fbb983913ae0e6b9816": {
          "model_module": "@jupyter-widgets/base",
          "model_module_version": "1.2.0",
          "model_name": "LayoutModel",
          "state": {
            "_model_module": "@jupyter-widgets/base",
            "_model_module_version": "1.2.0",
            "_model_name": "LayoutModel",
            "_view_count": null,
            "_view_module": "@jupyter-widgets/base",
            "_view_module_version": "1.2.0",
            "_view_name": "LayoutView",
            "align_content": null,
            "align_items": null,
            "align_self": null,
            "border": null,
            "bottom": null,
            "display": null,
            "flex": null,
            "flex_flow": null,
            "grid_area": null,
            "grid_auto_columns": null,
            "grid_auto_flow": null,
            "grid_auto_rows": null,
            "grid_column": null,
            "grid_gap": null,
            "grid_row": null,
            "grid_template_areas": null,
            "grid_template_columns": null,
            "grid_template_rows": null,
            "height": null,
            "justify_content": null,
            "justify_items": null,
            "left": null,
            "margin": null,
            "max_height": null,
            "max_width": null,
            "min_height": null,
            "min_width": null,
            "object_fit": null,
            "object_position": null,
            "order": null,
            "overflow": null,
            "overflow_x": null,
            "overflow_y": null,
            "padding": null,
            "right": null,
            "top": null,
            "visibility": null,
            "width": null
          }
        },
        "7a5e230756aa40848c615b1700894bb8": {
          "model_module": "@jupyter-widgets/controls",
          "model_module_version": "1.5.0",
          "model_name": "ProgressStyleModel",
          "state": {
            "_model_module": "@jupyter-widgets/controls",
            "_model_module_version": "1.5.0",
            "_model_name": "ProgressStyleModel",
            "_view_count": null,
            "_view_module": "@jupyter-widgets/base",
            "_view_module_version": "1.2.0",
            "_view_name": "StyleView",
            "bar_color": null,
            "description_width": ""
          }
        },
        "893222e9fdb54738ac56b04c0b553e5a": {
          "model_module": "@jupyter-widgets/controls",
          "model_module_version": "1.5.0",
          "model_name": "DescriptionStyleModel",
          "state": {
            "_model_module": "@jupyter-widgets/controls",
            "_model_module_version": "1.5.0",
            "_model_name": "DescriptionStyleModel",
            "_view_count": null,
            "_view_module": "@jupyter-widgets/base",
            "_view_module_version": "1.2.0",
            "_view_name": "StyleView",
            "description_width": ""
          }
        },
        "89b5173a4bfa4495806b4827ab70a047": {
          "model_module": "@jupyter-widgets/controls",
          "model_module_version": "1.5.0",
          "model_name": "FloatProgressModel",
          "state": {
            "_dom_classes": [],
            "_model_module": "@jupyter-widgets/controls",
            "_model_module_version": "1.5.0",
            "_model_name": "FloatProgressModel",
            "_view_count": null,
            "_view_module": "@jupyter-widgets/controls",
            "_view_module_version": "1.5.0",
            "_view_name": "ProgressView",
            "bar_style": "success",
            "description": "",
            "description_tooltip": null,
            "layout": "IPY_MODEL_930c99fd89fe40e08c3359d7127030a7",
            "max": 1042301,
            "min": 0,
            "orientation": "horizontal",
            "style": "IPY_MODEL_218667d6f8d54600a202e64493853ddd",
            "value": 1042301
          }
        },
        "8b0708da99cd4da3a6da82cb35ce201d": {
          "model_module": "@jupyter-widgets/controls",
          "model_module_version": "1.5.0",
          "model_name": "HTMLModel",
          "state": {
            "_dom_classes": [],
            "_model_module": "@jupyter-widgets/controls",
            "_model_module_version": "1.5.0",
            "_model_name": "HTMLModel",
            "_view_count": null,
            "_view_module": "@jupyter-widgets/controls",
            "_view_module_version": "1.5.0",
            "_view_name": "HTMLView",
            "description": "",
            "description_tooltip": null,
            "layout": "IPY_MODEL_d23d18b6f5e14862a612eb622eaf2eb2",
            "placeholder": "​",
            "style": "IPY_MODEL_893222e9fdb54738ac56b04c0b553e5a",
            "value": "Downloading (…)/main/tokenizer.json: 100%"
          }
        },
        "8c3678af621b4dea8ee95a6445caa348": {
          "model_module": "@jupyter-widgets/controls",
          "model_module_version": "1.5.0",
          "model_name": "DescriptionStyleModel",
          "state": {
            "_model_module": "@jupyter-widgets/controls",
            "_model_module_version": "1.5.0",
            "_model_name": "DescriptionStyleModel",
            "_view_count": null,
            "_view_module": "@jupyter-widgets/base",
            "_view_module_version": "1.2.0",
            "_view_name": "StyleView",
            "description_width": ""
          }
        },
        "8efbdae5975648aa8126c51a15ab4689": {
          "model_module": "@jupyter-widgets/base",
          "model_module_version": "1.2.0",
          "model_name": "LayoutModel",
          "state": {
            "_model_module": "@jupyter-widgets/base",
            "_model_module_version": "1.2.0",
            "_model_name": "LayoutModel",
            "_view_count": null,
            "_view_module": "@jupyter-widgets/base",
            "_view_module_version": "1.2.0",
            "_view_name": "LayoutView",
            "align_content": null,
            "align_items": null,
            "align_self": null,
            "border": null,
            "bottom": null,
            "display": null,
            "flex": null,
            "flex_flow": null,
            "grid_area": null,
            "grid_auto_columns": null,
            "grid_auto_flow": null,
            "grid_auto_rows": null,
            "grid_column": null,
            "grid_gap": null,
            "grid_row": null,
            "grid_template_areas": null,
            "grid_template_columns": null,
            "grid_template_rows": null,
            "height": null,
            "justify_content": null,
            "justify_items": null,
            "left": null,
            "margin": null,
            "max_height": null,
            "max_width": null,
            "min_height": null,
            "min_width": null,
            "object_fit": null,
            "object_position": null,
            "order": null,
            "overflow": null,
            "overflow_x": null,
            "overflow_y": null,
            "padding": null,
            "right": null,
            "top": null,
            "visibility": null,
            "width": null
          }
        },
        "930c99fd89fe40e08c3359d7127030a7": {
          "model_module": "@jupyter-widgets/base",
          "model_module_version": "1.2.0",
          "model_name": "LayoutModel",
          "state": {
            "_model_module": "@jupyter-widgets/base",
            "_model_module_version": "1.2.0",
            "_model_name": "LayoutModel",
            "_view_count": null,
            "_view_module": "@jupyter-widgets/base",
            "_view_module_version": "1.2.0",
            "_view_name": "LayoutView",
            "align_content": null,
            "align_items": null,
            "align_self": null,
            "border": null,
            "bottom": null,
            "display": null,
            "flex": null,
            "flex_flow": null,
            "grid_area": null,
            "grid_auto_columns": null,
            "grid_auto_flow": null,
            "grid_auto_rows": null,
            "grid_column": null,
            "grid_gap": null,
            "grid_row": null,
            "grid_template_areas": null,
            "grid_template_columns": null,
            "grid_template_rows": null,
            "height": null,
            "justify_content": null,
            "justify_items": null,
            "left": null,
            "margin": null,
            "max_height": null,
            "max_width": null,
            "min_height": null,
            "min_width": null,
            "object_fit": null,
            "object_position": null,
            "order": null,
            "overflow": null,
            "overflow_x": null,
            "overflow_y": null,
            "padding": null,
            "right": null,
            "top": null,
            "visibility": null,
            "width": null
          }
        },
        "9af6afcead684057adb693c2a6d4d320": {
          "model_module": "@jupyter-widgets/base",
          "model_module_version": "1.2.0",
          "model_name": "LayoutModel",
          "state": {
            "_model_module": "@jupyter-widgets/base",
            "_model_module_version": "1.2.0",
            "_model_name": "LayoutModel",
            "_view_count": null,
            "_view_module": "@jupyter-widgets/base",
            "_view_module_version": "1.2.0",
            "_view_name": "LayoutView",
            "align_content": null,
            "align_items": null,
            "align_self": null,
            "border": null,
            "bottom": null,
            "display": null,
            "flex": null,
            "flex_flow": null,
            "grid_area": null,
            "grid_auto_columns": null,
            "grid_auto_flow": null,
            "grid_auto_rows": null,
            "grid_column": null,
            "grid_gap": null,
            "grid_row": null,
            "grid_template_areas": null,
            "grid_template_columns": null,
            "grid_template_rows": null,
            "height": null,
            "justify_content": null,
            "justify_items": null,
            "left": null,
            "margin": null,
            "max_height": null,
            "max_width": null,
            "min_height": null,
            "min_width": null,
            "object_fit": null,
            "object_position": null,
            "order": null,
            "overflow": null,
            "overflow_x": null,
            "overflow_y": null,
            "padding": null,
            "right": null,
            "top": null,
            "visibility": null,
            "width": null
          }
        },
        "a03dc40261bb40378c39d1c839b3feb7": {
          "model_module": "@jupyter-widgets/controls",
          "model_module_version": "1.5.0",
          "model_name": "HTMLModel",
          "state": {
            "_dom_classes": [],
            "_model_module": "@jupyter-widgets/controls",
            "_model_module_version": "1.5.0",
            "_model_name": "HTMLModel",
            "_view_count": null,
            "_view_module": "@jupyter-widgets/controls",
            "_view_module_version": "1.5.0",
            "_view_name": "HTMLView",
            "description": "",
            "description_tooltip": null,
            "layout": "IPY_MODEL_3f6fe5ab4081468db79ce913b6a386cc",
            "placeholder": "​",
            "style": "IPY_MODEL_487598fbe67d4ed2a7bb1afdbb3917d1",
            "value": "Downloading (…)neration_config.json: 100%"
          }
        },
        "a0d143a6cc2241dfbd02badc6aa1e09e": {
          "model_module": "@jupyter-widgets/controls",
          "model_module_version": "1.5.0",
          "model_name": "FloatProgressModel",
          "state": {
            "_dom_classes": [],
            "_model_module": "@jupyter-widgets/controls",
            "_model_module_version": "1.5.0",
            "_model_name": "FloatProgressModel",
            "_view_count": null,
            "_view_module": "@jupyter-widgets/controls",
            "_view_module_version": "1.5.0",
            "_view_name": "ProgressView",
            "bar_style": "success",
            "description": "",
            "description_tooltip": null,
            "layout": "IPY_MODEL_c7eef3e139f844d2a24994b805e2a7e8",
            "max": 665,
            "min": 0,
            "orientation": "horizontal",
            "style": "IPY_MODEL_f0d3ed603fde4fed9b4fac7727c8b5f1",
            "value": 665
          }
        },
        "a1b52da2a2f14b9094a3ea7b4b7bce26": {
          "model_module": "@jupyter-widgets/base",
          "model_module_version": "1.2.0",
          "model_name": "LayoutModel",
          "state": {
            "_model_module": "@jupyter-widgets/base",
            "_model_module_version": "1.2.0",
            "_model_name": "LayoutModel",
            "_view_count": null,
            "_view_module": "@jupyter-widgets/base",
            "_view_module_version": "1.2.0",
            "_view_name": "LayoutView",
            "align_content": null,
            "align_items": null,
            "align_self": null,
            "border": null,
            "bottom": null,
            "display": null,
            "flex": null,
            "flex_flow": null,
            "grid_area": null,
            "grid_auto_columns": null,
            "grid_auto_flow": null,
            "grid_auto_rows": null,
            "grid_column": null,
            "grid_gap": null,
            "grid_row": null,
            "grid_template_areas": null,
            "grid_template_columns": null,
            "grid_template_rows": null,
            "height": null,
            "justify_content": null,
            "justify_items": null,
            "left": null,
            "margin": null,
            "max_height": null,
            "max_width": null,
            "min_height": null,
            "min_width": null,
            "object_fit": null,
            "object_position": null,
            "order": null,
            "overflow": null,
            "overflow_x": null,
            "overflow_y": null,
            "padding": null,
            "right": null,
            "top": null,
            "visibility": null,
            "width": null
          }
        },
        "a4375b4a66dc40dbb6018dd77c6e5d74": {
          "model_module": "@jupyter-widgets/base",
          "model_module_version": "1.2.0",
          "model_name": "LayoutModel",
          "state": {
            "_model_module": "@jupyter-widgets/base",
            "_model_module_version": "1.2.0",
            "_model_name": "LayoutModel",
            "_view_count": null,
            "_view_module": "@jupyter-widgets/base",
            "_view_module_version": "1.2.0",
            "_view_name": "LayoutView",
            "align_content": null,
            "align_items": null,
            "align_self": null,
            "border": null,
            "bottom": null,
            "display": null,
            "flex": null,
            "flex_flow": null,
            "grid_area": null,
            "grid_auto_columns": null,
            "grid_auto_flow": null,
            "grid_auto_rows": null,
            "grid_column": null,
            "grid_gap": null,
            "grid_row": null,
            "grid_template_areas": null,
            "grid_template_columns": null,
            "grid_template_rows": null,
            "height": null,
            "justify_content": null,
            "justify_items": null,
            "left": null,
            "margin": null,
            "max_height": null,
            "max_width": null,
            "min_height": null,
            "min_width": null,
            "object_fit": null,
            "object_position": null,
            "order": null,
            "overflow": null,
            "overflow_x": null,
            "overflow_y": null,
            "padding": null,
            "right": null,
            "top": null,
            "visibility": null,
            "width": null
          }
        },
        "adfeb43799534a7eaeef7209dc92496a": {
          "model_module": "@jupyter-widgets/controls",
          "model_module_version": "1.5.0",
          "model_name": "HTMLModel",
          "state": {
            "_dom_classes": [],
            "_model_module": "@jupyter-widgets/controls",
            "_model_module_version": "1.5.0",
            "_model_name": "HTMLModel",
            "_view_count": null,
            "_view_module": "@jupyter-widgets/controls",
            "_view_module_version": "1.5.0",
            "_view_name": "HTMLView",
            "description": "",
            "description_tooltip": null,
            "layout": "IPY_MODEL_67c08397b8aa4c7da958e9ec244366bc",
            "placeholder": "​",
            "style": "IPY_MODEL_4ddcf8ff3dd04ed2bd5e14ba031e80f0",
            "value": " 456k/456k [00:00&lt;00:00, 9.29MB/s]"
          }
        },
        "ae62dfc3f5aa4912ab890213eee722a0": {
          "model_module": "@jupyter-widgets/controls",
          "model_module_version": "1.5.0",
          "model_name": "FloatProgressModel",
          "state": {
            "_dom_classes": [],
            "_model_module": "@jupyter-widgets/controls",
            "_model_module_version": "1.5.0",
            "_model_name": "FloatProgressModel",
            "_view_count": null,
            "_view_module": "@jupyter-widgets/controls",
            "_view_module_version": "1.5.0",
            "_view_name": "ProgressView",
            "bar_style": "success",
            "description": "",
            "description_tooltip": null,
            "layout": "IPY_MODEL_12e4349e1f224c32b35afb738c584c89",
            "max": 1355256,
            "min": 0,
            "orientation": "horizontal",
            "style": "IPY_MODEL_5221011e370c4a46ba1b037492e881d4",
            "value": 1355256
          }
        },
        "b0ebb03b87574c889becc099c9f1f4bf": {
          "model_module": "@jupyter-widgets/base",
          "model_module_version": "1.2.0",
          "model_name": "LayoutModel",
          "state": {
            "_model_module": "@jupyter-widgets/base",
            "_model_module_version": "1.2.0",
            "_model_name": "LayoutModel",
            "_view_count": null,
            "_view_module": "@jupyter-widgets/base",
            "_view_module_version": "1.2.0",
            "_view_name": "LayoutView",
            "align_content": null,
            "align_items": null,
            "align_self": null,
            "border": null,
            "bottom": null,
            "display": null,
            "flex": null,
            "flex_flow": null,
            "grid_area": null,
            "grid_auto_columns": null,
            "grid_auto_flow": null,
            "grid_auto_rows": null,
            "grid_column": null,
            "grid_gap": null,
            "grid_row": null,
            "grid_template_areas": null,
            "grid_template_columns": null,
            "grid_template_rows": null,
            "height": null,
            "justify_content": null,
            "justify_items": null,
            "left": null,
            "margin": null,
            "max_height": null,
            "max_width": null,
            "min_height": null,
            "min_width": null,
            "object_fit": null,
            "object_position": null,
            "order": null,
            "overflow": null,
            "overflow_x": null,
            "overflow_y": null,
            "padding": null,
            "right": null,
            "top": null,
            "visibility": null,
            "width": null
          }
        },
        "c4dc4b21a9b1443687c519bd685122d1": {
          "model_module": "@jupyter-widgets/base",
          "model_module_version": "1.2.0",
          "model_name": "LayoutModel",
          "state": {
            "_model_module": "@jupyter-widgets/base",
            "_model_module_version": "1.2.0",
            "_model_name": "LayoutModel",
            "_view_count": null,
            "_view_module": "@jupyter-widgets/base",
            "_view_module_version": "1.2.0",
            "_view_name": "LayoutView",
            "align_content": null,
            "align_items": null,
            "align_self": null,
            "border": null,
            "bottom": null,
            "display": null,
            "flex": null,
            "flex_flow": null,
            "grid_area": null,
            "grid_auto_columns": null,
            "grid_auto_flow": null,
            "grid_auto_rows": null,
            "grid_column": null,
            "grid_gap": null,
            "grid_row": null,
            "grid_template_areas": null,
            "grid_template_columns": null,
            "grid_template_rows": null,
            "height": null,
            "justify_content": null,
            "justify_items": null,
            "left": null,
            "margin": null,
            "max_height": null,
            "max_width": null,
            "min_height": null,
            "min_width": null,
            "object_fit": null,
            "object_position": null,
            "order": null,
            "overflow": null,
            "overflow_x": null,
            "overflow_y": null,
            "padding": null,
            "right": null,
            "top": null,
            "visibility": null,
            "width": null
          }
        },
        "c7d37106d60b4aa58f0e9fdf07093497": {
          "model_module": "@jupyter-widgets/controls",
          "model_module_version": "1.5.0",
          "model_name": "DescriptionStyleModel",
          "state": {
            "_model_module": "@jupyter-widgets/controls",
            "_model_module_version": "1.5.0",
            "_model_name": "DescriptionStyleModel",
            "_view_count": null,
            "_view_module": "@jupyter-widgets/base",
            "_view_module_version": "1.2.0",
            "_view_name": "StyleView",
            "description_width": ""
          }
        },
        "c7eef3e139f844d2a24994b805e2a7e8": {
          "model_module": "@jupyter-widgets/base",
          "model_module_version": "1.2.0",
          "model_name": "LayoutModel",
          "state": {
            "_model_module": "@jupyter-widgets/base",
            "_model_module_version": "1.2.0",
            "_model_name": "LayoutModel",
            "_view_count": null,
            "_view_module": "@jupyter-widgets/base",
            "_view_module_version": "1.2.0",
            "_view_name": "LayoutView",
            "align_content": null,
            "align_items": null,
            "align_self": null,
            "border": null,
            "bottom": null,
            "display": null,
            "flex": null,
            "flex_flow": null,
            "grid_area": null,
            "grid_auto_columns": null,
            "grid_auto_flow": null,
            "grid_auto_rows": null,
            "grid_column": null,
            "grid_gap": null,
            "grid_row": null,
            "grid_template_areas": null,
            "grid_template_columns": null,
            "grid_template_rows": null,
            "height": null,
            "justify_content": null,
            "justify_items": null,
            "left": null,
            "margin": null,
            "max_height": null,
            "max_width": null,
            "min_height": null,
            "min_width": null,
            "object_fit": null,
            "object_position": null,
            "order": null,
            "overflow": null,
            "overflow_x": null,
            "overflow_y": null,
            "padding": null,
            "right": null,
            "top": null,
            "visibility": null,
            "width": null
          }
        },
        "c956f2d9388c4a03929c3243ac7caa56": {
          "model_module": "@jupyter-widgets/base",
          "model_module_version": "1.2.0",
          "model_name": "LayoutModel",
          "state": {
            "_model_module": "@jupyter-widgets/base",
            "_model_module_version": "1.2.0",
            "_model_name": "LayoutModel",
            "_view_count": null,
            "_view_module": "@jupyter-widgets/base",
            "_view_module_version": "1.2.0",
            "_view_name": "LayoutView",
            "align_content": null,
            "align_items": null,
            "align_self": null,
            "border": null,
            "bottom": null,
            "display": null,
            "flex": null,
            "flex_flow": null,
            "grid_area": null,
            "grid_auto_columns": null,
            "grid_auto_flow": null,
            "grid_auto_rows": null,
            "grid_column": null,
            "grid_gap": null,
            "grid_row": null,
            "grid_template_areas": null,
            "grid_template_columns": null,
            "grid_template_rows": null,
            "height": null,
            "justify_content": null,
            "justify_items": null,
            "left": null,
            "margin": null,
            "max_height": null,
            "max_width": null,
            "min_height": null,
            "min_width": null,
            "object_fit": null,
            "object_position": null,
            "order": null,
            "overflow": null,
            "overflow_x": null,
            "overflow_y": null,
            "padding": null,
            "right": null,
            "top": null,
            "visibility": null,
            "width": null
          }
        },
        "ce057a6b4c2b4f9f80bb3c8b660c89f3": {
          "model_module": "@jupyter-widgets/controls",
          "model_module_version": "1.5.0",
          "model_name": "HBoxModel",
          "state": {
            "_dom_classes": [],
            "_model_module": "@jupyter-widgets/controls",
            "_model_module_version": "1.5.0",
            "_model_name": "HBoxModel",
            "_view_count": null,
            "_view_module": "@jupyter-widgets/controls",
            "_view_module_version": "1.5.0",
            "_view_name": "HBoxView",
            "box_style": "",
            "children": [
              "IPY_MODEL_21e71575ee3d420e9631d2c3de2aa20d",
              "IPY_MODEL_a0d143a6cc2241dfbd02badc6aa1e09e",
              "IPY_MODEL_2434567e33e84977a029b1658a8bd679"
            ],
            "layout": "IPY_MODEL_c956f2d9388c4a03929c3243ac7caa56"
          }
        },
        "cf11b6b7ceab45eea6abe1c12dd08ac2": {
          "model_module": "@jupyter-widgets/base",
          "model_module_version": "1.2.0",
          "model_name": "LayoutModel",
          "state": {
            "_model_module": "@jupyter-widgets/base",
            "_model_module_version": "1.2.0",
            "_model_name": "LayoutModel",
            "_view_count": null,
            "_view_module": "@jupyter-widgets/base",
            "_view_module_version": "1.2.0",
            "_view_name": "LayoutView",
            "align_content": null,
            "align_items": null,
            "align_self": null,
            "border": null,
            "bottom": null,
            "display": null,
            "flex": null,
            "flex_flow": null,
            "grid_area": null,
            "grid_auto_columns": null,
            "grid_auto_flow": null,
            "grid_auto_rows": null,
            "grid_column": null,
            "grid_gap": null,
            "grid_row": null,
            "grid_template_areas": null,
            "grid_template_columns": null,
            "grid_template_rows": null,
            "height": null,
            "justify_content": null,
            "justify_items": null,
            "left": null,
            "margin": null,
            "max_height": null,
            "max_width": null,
            "min_height": null,
            "min_width": null,
            "object_fit": null,
            "object_position": null,
            "order": null,
            "overflow": null,
            "overflow_x": null,
            "overflow_y": null,
            "padding": null,
            "right": null,
            "top": null,
            "visibility": null,
            "width": null
          }
        },
        "d23d18b6f5e14862a612eb622eaf2eb2": {
          "model_module": "@jupyter-widgets/base",
          "model_module_version": "1.2.0",
          "model_name": "LayoutModel",
          "state": {
            "_model_module": "@jupyter-widgets/base",
            "_model_module_version": "1.2.0",
            "_model_name": "LayoutModel",
            "_view_count": null,
            "_view_module": "@jupyter-widgets/base",
            "_view_module_version": "1.2.0",
            "_view_name": "LayoutView",
            "align_content": null,
            "align_items": null,
            "align_self": null,
            "border": null,
            "bottom": null,
            "display": null,
            "flex": null,
            "flex_flow": null,
            "grid_area": null,
            "grid_auto_columns": null,
            "grid_auto_flow": null,
            "grid_auto_rows": null,
            "grid_column": null,
            "grid_gap": null,
            "grid_row": null,
            "grid_template_areas": null,
            "grid_template_columns": null,
            "grid_template_rows": null,
            "height": null,
            "justify_content": null,
            "justify_items": null,
            "left": null,
            "margin": null,
            "max_height": null,
            "max_width": null,
            "min_height": null,
            "min_width": null,
            "object_fit": null,
            "object_position": null,
            "order": null,
            "overflow": null,
            "overflow_x": null,
            "overflow_y": null,
            "padding": null,
            "right": null,
            "top": null,
            "visibility": null,
            "width": null
          }
        },
        "d3b4af4b7e274b19b734eecf7b50c3d7": {
          "model_module": "@jupyter-widgets/base",
          "model_module_version": "1.2.0",
          "model_name": "LayoutModel",
          "state": {
            "_model_module": "@jupyter-widgets/base",
            "_model_module_version": "1.2.0",
            "_model_name": "LayoutModel",
            "_view_count": null,
            "_view_module": "@jupyter-widgets/base",
            "_view_module_version": "1.2.0",
            "_view_name": "LayoutView",
            "align_content": null,
            "align_items": null,
            "align_self": null,
            "border": null,
            "bottom": null,
            "display": null,
            "flex": null,
            "flex_flow": null,
            "grid_area": null,
            "grid_auto_columns": null,
            "grid_auto_flow": null,
            "grid_auto_rows": null,
            "grid_column": null,
            "grid_gap": null,
            "grid_row": null,
            "grid_template_areas": null,
            "grid_template_columns": null,
            "grid_template_rows": null,
            "height": null,
            "justify_content": null,
            "justify_items": null,
            "left": null,
            "margin": null,
            "max_height": null,
            "max_width": null,
            "min_height": null,
            "min_width": null,
            "object_fit": null,
            "object_position": null,
            "order": null,
            "overflow": null,
            "overflow_x": null,
            "overflow_y": null,
            "padding": null,
            "right": null,
            "top": null,
            "visibility": null,
            "width": null
          }
        },
        "de701273cea0494f9c412d5facb2295a": {
          "model_module": "@jupyter-widgets/base",
          "model_module_version": "1.2.0",
          "model_name": "LayoutModel",
          "state": {
            "_model_module": "@jupyter-widgets/base",
            "_model_module_version": "1.2.0",
            "_model_name": "LayoutModel",
            "_view_count": null,
            "_view_module": "@jupyter-widgets/base",
            "_view_module_version": "1.2.0",
            "_view_name": "LayoutView",
            "align_content": null,
            "align_items": null,
            "align_self": null,
            "border": null,
            "bottom": null,
            "display": null,
            "flex": null,
            "flex_flow": null,
            "grid_area": null,
            "grid_auto_columns": null,
            "grid_auto_flow": null,
            "grid_auto_rows": null,
            "grid_column": null,
            "grid_gap": null,
            "grid_row": null,
            "grid_template_areas": null,
            "grid_template_columns": null,
            "grid_template_rows": null,
            "height": null,
            "justify_content": null,
            "justify_items": null,
            "left": null,
            "margin": null,
            "max_height": null,
            "max_width": null,
            "min_height": null,
            "min_width": null,
            "object_fit": null,
            "object_position": null,
            "order": null,
            "overflow": null,
            "overflow_x": null,
            "overflow_y": null,
            "padding": null,
            "right": null,
            "top": null,
            "visibility": null,
            "width": null
          }
        },
        "e2343dc95a2c4d329fc58aaec629ab14": {
          "model_module": "@jupyter-widgets/controls",
          "model_module_version": "1.5.0",
          "model_name": "HTMLModel",
          "state": {
            "_dom_classes": [],
            "_model_module": "@jupyter-widgets/controls",
            "_model_module_version": "1.5.0",
            "_model_name": "HTMLModel",
            "_view_count": null,
            "_view_module": "@jupyter-widgets/controls",
            "_view_module_version": "1.5.0",
            "_view_name": "HTMLView",
            "description": "",
            "description_tooltip": null,
            "layout": "IPY_MODEL_b0ebb03b87574c889becc099c9f1f4bf",
            "placeholder": "​",
            "style": "IPY_MODEL_2c35fa729cc34ac7b02fc67612f275c7",
            "value": " 124/124 [00:00&lt;00:00, 4.62kB/s]"
          }
        },
        "eb0b1b5cdc4a4d618659a5e82d238fe4": {
          "model_module": "@jupyter-widgets/controls",
          "model_module_version": "1.5.0",
          "model_name": "FloatProgressModel",
          "state": {
            "_dom_classes": [],
            "_model_module": "@jupyter-widgets/controls",
            "_model_module_version": "1.5.0",
            "_model_name": "FloatProgressModel",
            "_view_count": null,
            "_view_module": "@jupyter-widgets/controls",
            "_view_module_version": "1.5.0",
            "_view_name": "ProgressView",
            "bar_style": "success",
            "description": "",
            "description_tooltip": null,
            "layout": "IPY_MODEL_9af6afcead684057adb693c2a6d4d320",
            "max": 456318,
            "min": 0,
            "orientation": "horizontal",
            "style": "IPY_MODEL_01af6b7122f94b9f92853de3f80a3aad",
            "value": 456318
          }
        },
        "ec9577bb1470481887712cf0bc3ff34e": {
          "model_module": "@jupyter-widgets/controls",
          "model_module_version": "1.5.0",
          "model_name": "HTMLModel",
          "state": {
            "_dom_classes": [],
            "_model_module": "@jupyter-widgets/controls",
            "_model_module_version": "1.5.0",
            "_model_name": "HTMLModel",
            "_view_count": null,
            "_view_module": "@jupyter-widgets/controls",
            "_view_module_version": "1.5.0",
            "_view_name": "HTMLView",
            "description": "",
            "description_tooltip": null,
            "layout": "IPY_MODEL_355b44689b6340c692c0969b73da9619",
            "placeholder": "​",
            "style": "IPY_MODEL_f5d7b0a960604cb8932dbd83881bc170",
            "value": "Downloading (…)olve/main/vocab.json: 100%"
          }
        },
        "f0d3ed603fde4fed9b4fac7727c8b5f1": {
          "model_module": "@jupyter-widgets/controls",
          "model_module_version": "1.5.0",
          "model_name": "ProgressStyleModel",
          "state": {
            "_model_module": "@jupyter-widgets/controls",
            "_model_module_version": "1.5.0",
            "_model_name": "ProgressStyleModel",
            "_view_count": null,
            "_view_module": "@jupyter-widgets/base",
            "_view_module_version": "1.2.0",
            "_view_name": "StyleView",
            "bar_color": null,
            "description_width": ""
          }
        },
        "f204e6ff280741adb9b95f74e8419c30": {
          "model_module": "@jupyter-widgets/controls",
          "model_module_version": "1.5.0",
          "model_name": "HTMLModel",
          "state": {
            "_dom_classes": [],
            "_model_module": "@jupyter-widgets/controls",
            "_model_module_version": "1.5.0",
            "_model_name": "HTMLModel",
            "_view_count": null,
            "_view_module": "@jupyter-widgets/controls",
            "_view_module_version": "1.5.0",
            "_view_name": "HTMLView",
            "description": "",
            "description_tooltip": null,
            "layout": "IPY_MODEL_5f0270c8749f40d08fde1a3d0cd5e3e0",
            "placeholder": "​",
            "style": "IPY_MODEL_0a0ec6e272714502af8b61fa11bd9e72",
            "value": "Downloading pytorch_model.bin: 100%"
          }
        },
        "f5d7b0a960604cb8932dbd83881bc170": {
          "model_module": "@jupyter-widgets/controls",
          "model_module_version": "1.5.0",
          "model_name": "DescriptionStyleModel",
          "state": {
            "_model_module": "@jupyter-widgets/controls",
            "_model_module_version": "1.5.0",
            "_model_name": "DescriptionStyleModel",
            "_view_count": null,
            "_view_module": "@jupyter-widgets/base",
            "_view_module_version": "1.2.0",
            "_view_name": "StyleView",
            "description_width": ""
          }
        },
        "fb43975c59904fb788a7be63f56168fd": {
          "model_module": "@jupyter-widgets/controls",
          "model_module_version": "1.5.0",
          "model_name": "DescriptionStyleModel",
          "state": {
            "_model_module": "@jupyter-widgets/controls",
            "_model_module_version": "1.5.0",
            "_model_name": "DescriptionStyleModel",
            "_view_count": null,
            "_view_module": "@jupyter-widgets/base",
            "_view_module_version": "1.2.0",
            "_view_name": "StyleView",
            "description_width": ""
          }
        },
        "ff1f06e2cb6540d7b176646ff8337428": {
          "model_module": "@jupyter-widgets/controls",
          "model_module_version": "1.5.0",
          "model_name": "DescriptionStyleModel",
          "state": {
            "_model_module": "@jupyter-widgets/controls",
            "_model_module_version": "1.5.0",
            "_model_name": "DescriptionStyleModel",
            "_view_count": null,
            "_view_module": "@jupyter-widgets/base",
            "_view_module_version": "1.2.0",
            "_view_name": "StyleView",
            "description_width": ""
          }
        }
      }
    }
  },
  "nbformat_minor": 5,
  "nbformat": 4,
  "cells": [
    {
      "cell_type": "code",
      "source": [
        "!pip install transformers"
      ],
      "metadata": {
        "execution": {
          "iopub.status.busy": "2023-10-15T11:00:27.996454Z",
          "iopub.execute_input": "2023-10-15T11:00:27.996825Z",
          "iopub.status.idle": "2023-10-15T11:00:39.430939Z",
          "shell.execute_reply.started": "2023-10-15T11:00:27.996798Z",
          "shell.execute_reply": "2023-10-15T11:00:39.429772Z"
        },
        "trusted": true,
        "id": "914f24jgNF_q",
        "outputId": "c023bd0f-1c47-4bc0-f468-1720d9429a98"
      },
      "execution_count": null,
      "outputs": [
        {
          "name": "stdout",
          "text": "Requirement already satisfied: transformers in /opt/conda/lib/python3.10/site-packages (4.33.0)\nRequirement already satisfied: filelock in /opt/conda/lib/python3.10/site-packages (from transformers) (3.12.2)\nRequirement already satisfied: huggingface-hub<1.0,>=0.15.1 in /opt/conda/lib/python3.10/site-packages (from transformers) (0.16.4)\nRequirement already satisfied: numpy>=1.17 in /opt/conda/lib/python3.10/site-packages (from transformers) (1.23.5)\nRequirement already satisfied: packaging>=20.0 in /opt/conda/lib/python3.10/site-packages (from transformers) (21.3)\nRequirement already satisfied: pyyaml>=5.1 in /opt/conda/lib/python3.10/site-packages (from transformers) (6.0)\nRequirement already satisfied: regex!=2019.12.17 in /opt/conda/lib/python3.10/site-packages (from transformers) (2023.6.3)\nRequirement already satisfied: requests in /opt/conda/lib/python3.10/site-packages (from transformers) (2.31.0)\nRequirement already satisfied: tokenizers!=0.11.3,<0.14,>=0.11.1 in /opt/conda/lib/python3.10/site-packages (from transformers) (0.13.3)\nRequirement already satisfied: safetensors>=0.3.1 in /opt/conda/lib/python3.10/site-packages (from transformers) (0.3.3)\nRequirement already satisfied: tqdm>=4.27 in /opt/conda/lib/python3.10/site-packages (from transformers) (4.66.1)\nRequirement already satisfied: fsspec in /opt/conda/lib/python3.10/site-packages (from huggingface-hub<1.0,>=0.15.1->transformers) (2023.9.0)\nRequirement already satisfied: typing-extensions>=3.7.4.3 in /opt/conda/lib/python3.10/site-packages (from huggingface-hub<1.0,>=0.15.1->transformers) (4.6.3)\nRequirement already satisfied: pyparsing!=3.0.5,>=2.0.2 in /opt/conda/lib/python3.10/site-packages (from packaging>=20.0->transformers) (3.0.9)\nRequirement already satisfied: charset-normalizer<4,>=2 in /opt/conda/lib/python3.10/site-packages (from requests->transformers) (3.1.0)\nRequirement already satisfied: idna<4,>=2.5 in /opt/conda/lib/python3.10/site-packages (from requests->transformers) (3.4)\nRequirement already satisfied: urllib3<3,>=1.21.1 in /opt/conda/lib/python3.10/site-packages (from requests->transformers) (1.26.15)\nRequirement already satisfied: certifi>=2017.4.17 in /opt/conda/lib/python3.10/site-packages (from requests->transformers) (2023.7.22)\n",
          "output_type": "stream"
        }
      ],
      "id": "914f24jgNF_q"
    },
    {
      "cell_type": "code",
      "source": [
        "import torch\n",
        "import re\n",
        "from tqdm import tqdm\n",
        "from torch.utils.data import DataLoader, Dataset\n",
        "from transformers import T5Tokenizer, T5ForConditionalGeneration\n",
        "from torch.optim import AdamW\n",
        "from transformers import Trainer, TrainingArguments\n",
        "from transformers import TextDataset, DataCollatorForLanguageModeling\n",
        "from transformers import pipeline, set_seed\n",
        "import matplotlib.pyplot as plt\n",
        "%matplotlib inline"
      ],
      "metadata": {
        "id": "8238cc7b",
        "execution": {
          "iopub.status.busy": "2023-10-15T11:00:39.433317Z",
          "iopub.execute_input": "2023-10-15T11:00:39.433922Z",
          "iopub.status.idle": "2023-10-15T11:00:53.733664Z",
          "shell.execute_reply.started": "2023-10-15T11:00:39.433883Z",
          "shell.execute_reply": "2023-10-15T11:00:53.732778Z"
        },
        "trusted": true,
        "outputId": "d2bf9ccc-d12e-4804-9aa9-5ccf754c8bfc"
      },
      "execution_count": null,
      "outputs": [
        {
          "name": "stderr",
          "text": "/opt/conda/lib/python3.10/site-packages/scipy/__init__.py:146: UserWarning: A NumPy version >=1.16.5 and <1.23.0 is required for this version of SciPy (detected version 1.23.5\n  warnings.warn(f\"A NumPy version >={np_minversion} and <{np_maxversion}\"\n",
          "output_type": "stream"
        }
      ],
      "id": "8238cc7b"
    },
    {
      "cell_type": "code",
      "source": [
        "# This is the name of the program management system for NVIDIA GPUs. We're going to send our code here.\n",
        "device_name = 'cuda'"
      ],
      "metadata": {
        "execution": {
          "iopub.status.busy": "2023-10-15T11:00:53.735054Z",
          "iopub.execute_input": "2023-10-15T11:00:53.735767Z",
          "iopub.status.idle": "2023-10-15T11:00:53.740903Z",
          "shell.execute_reply.started": "2023-10-15T11:00:53.735733Z",
          "shell.execute_reply": "2023-10-15T11:00:53.740032Z"
        },
        "trusted": true,
        "id": "JgXmwd4PNF_v"
      },
      "execution_count": null,
      "outputs": [],
      "id": "JgXmwd4PNF_v"
    },
    {
      "cell_type": "code",
      "source": [
        "# t5\n",
        "generator = pipeline(task=\"text2text-generation\", model=\"t5-base\", tokenizer=\"t5-base\")\n",
        "# Example input text\n",
        "input_text = \"Harry and Hermione play near the school\"\n",
        "\n",
        "# Generate text using T5\n",
        "generated_text = generator(input_text, max_length=50, do_sample=True)\n",
        "\n",
        "# Print the generated text\n",
        "print(\"Generated text:\", generated_text[0]['generated_text'])\n"
      ],
      "metadata": {
        "colab": {
          "base_uri": "https://localhost:8080/",
          "height": 298,
          "referenced_widgets": [
            "ce057a6b4c2b4f9f80bb3c8b660c89f3",
            "21e71575ee3d420e9631d2c3de2aa20d",
            "a0d143a6cc2241dfbd02badc6aa1e09e",
            "2434567e33e84977a029b1658a8bd679",
            "c956f2d9388c4a03929c3243ac7caa56",
            "a4375b4a66dc40dbb6018dd77c6e5d74",
            "c7d37106d60b4aa58f0e9fdf07093497",
            "c7eef3e139f844d2a24994b805e2a7e8",
            "f0d3ed603fde4fed9b4fac7727c8b5f1",
            "8efbdae5975648aa8126c51a15ab4689",
            "fb43975c59904fb788a7be63f56168fd",
            "5992bd1e96a64febb17f4cef86fec248",
            "f204e6ff280741adb9b95f74e8419c30",
            "4781e81614f14e3bb8719f8211278c82",
            "66f1048288c642ce97cf23f62a01250d",
            "0ea8dcb0d4c64390b7178cddcb1598ee",
            "5f0270c8749f40d08fde1a3d0cd5e3e0",
            "0a0ec6e272714502af8b61fa11bd9e72",
            "50a0c9b276dc4207b6cff26e43598374",
            "3ada8125ab50465e9b0223385fc8359b",
            "55c26c326bc149fda88db432fe91882b",
            "ff1f06e2cb6540d7b176646ff8337428",
            "3743f1ac6cc14cc180e94c425faa980a",
            "a03dc40261bb40378c39d1c839b3feb7",
            "4fcc675ac05246e3a48fb5e297f159b5",
            "e2343dc95a2c4d329fc58aaec629ab14",
            "6d1374883b394fbb983913ae0e6b9816",
            "3f6fe5ab4081468db79ce913b6a386cc",
            "487598fbe67d4ed2a7bb1afdbb3917d1",
            "68587b5fd0454d33a1699dc71ef0dbee",
            "7a5e230756aa40848c615b1700894bb8",
            "b0ebb03b87574c889becc099c9f1f4bf",
            "2c35fa729cc34ac7b02fc67612f275c7",
            "26d7fc2cb8444bf2b049ed3db30cea28",
            "ec9577bb1470481887712cf0bc3ff34e",
            "89b5173a4bfa4495806b4827ab70a047",
            "63b3411ab85f4c8b9c8c54bbf31bd015",
            "cf11b6b7ceab45eea6abe1c12dd08ac2",
            "355b44689b6340c692c0969b73da9619",
            "f5d7b0a960604cb8932dbd83881bc170",
            "930c99fd89fe40e08c3359d7127030a7",
            "218667d6f8d54600a202e64493853ddd",
            "c4dc4b21a9b1443687c519bd685122d1",
            "8c3678af621b4dea8ee95a6445caa348",
            "1c82b5894e104256b9a66ab2120a884f",
            "3de4b5230d234d94b4764d9335f385d0",
            "eb0b1b5cdc4a4d618659a5e82d238fe4",
            "adfeb43799534a7eaeef7209dc92496a",
            "d3b4af4b7e274b19b734eecf7b50c3d7",
            "a1b52da2a2f14b9094a3ea7b4b7bce26",
            "1590f17082ae4b2987351c5a4756fd2a",
            "9af6afcead684057adb693c2a6d4d320",
            "01af6b7122f94b9f92853de3f80a3aad",
            "67c08397b8aa4c7da958e9ec244366bc",
            "4ddcf8ff3dd04ed2bd5e14ba031e80f0",
            "33fff3f80af14f7f9958e12c5c98f348",
            "8b0708da99cd4da3a6da82cb35ce201d",
            "ae62dfc3f5aa4912ab890213eee722a0",
            "2a13413908f24ca8ae6da6b0f3bd8508",
            "6bc06ec297e745729948ddc96765d0b1",
            "d23d18b6f5e14862a612eb622eaf2eb2",
            "893222e9fdb54738ac56b04c0b553e5a",
            "12e4349e1f224c32b35afb738c584c89",
            "5221011e370c4a46ba1b037492e881d4",
            "de701273cea0494f9c412d5facb2295a",
            "39462eed46564c6c9a862d9c3e974e86",
            "a4bc96376c1e447dbda37cd8e27ed671",
            "f06ad63c138844878dba1e6a630cd8fe",
            "a1d4ad8509274fdea7ea2a231546d4d3",
            "1eb189f2c5f94bc28341e0b4d658ecb5",
            "eb6e10d6193145a28196f95d157b143e"
          ]
        },
        "id": "YGdTk7zUVeGS",
        "outputId": "fd43da89-3053-4b10-fa69-6ff43badb223",
        "execution": {
          "iopub.status.busy": "2023-10-15T11:00:53.743144Z",
          "iopub.execute_input": "2023-10-15T11:00:53.743715Z",
          "iopub.status.idle": "2023-10-15T11:01:03.702591Z",
          "shell.execute_reply.started": "2023-10-15T11:00:53.743680Z",
          "shell.execute_reply": "2023-10-15T11:01:03.701698Z"
        },
        "trusted": true
      },
      "execution_count": null,
      "outputs": [
        {
          "output_type": "display_data",
          "data": {
            "text/plain": "Downloading (…)lve/main/config.json:   0%|          | 0.00/1.21k [00:00<?, ?B/s]",
            "application/vnd.jupyter.widget-view+json": {
              "version_major": 2,
              "version_minor": 0,
              "model_id": "a4bc96376c1e447dbda37cd8e27ed671"
            }
          },
          "metadata": {}
        },
        {
          "output_type": "display_data",
          "data": {
            "text/plain": "Downloading model.safetensors:   0%|          | 0.00/892M [00:00<?, ?B/s]",
            "application/vnd.jupyter.widget-view+json": {
              "version_major": 2,
              "version_minor": 0,
              "model_id": "f06ad63c138844878dba1e6a630cd8fe"
            }
          },
          "metadata": {}
        },
        {
          "output_type": "display_data",
          "data": {
            "text/plain": "Downloading (…)neration_config.json:   0%|          | 0.00/147 [00:00<?, ?B/s]",
            "application/vnd.jupyter.widget-view+json": {
              "version_major": 2,
              "version_minor": 0,
              "model_id": "a1d4ad8509274fdea7ea2a231546d4d3"
            }
          },
          "metadata": {}
        },
        {
          "output_type": "display_data",
          "data": {
            "text/plain": "Downloading (…)ve/main/spiece.model:   0%|          | 0.00/792k [00:00<?, ?B/s]",
            "application/vnd.jupyter.widget-view+json": {
              "version_major": 2,
              "version_minor": 0,
              "model_id": "1eb189f2c5f94bc28341e0b4d658ecb5"
            }
          },
          "metadata": {}
        },
        {
          "output_type": "display_data",
          "data": {
            "text/plain": "Downloading (…)/main/tokenizer.json:   0%|          | 0.00/1.39M [00:00<?, ?B/s]",
            "application/vnd.jupyter.widget-view+json": {
              "version_major": 2,
              "version_minor": 0,
              "model_id": "eb6e10d6193145a28196f95d157b143e"
            }
          },
          "metadata": {}
        },
        {
          "name": "stderr",
          "text": "/opt/conda/lib/python3.10/site-packages/transformers/models/t5/tokenization_t5_fast.py:158: FutureWarning: This tokenizer was incorrectly instantiated with a model max length of 512 which will be corrected in Transformers v5.\nFor now, this behavior is kept to avoid breaking backwards compatibility when padding/encoding with `truncation is True`.\n- Be aware that you SHOULD NOT rely on t5-base automatically truncating your input to 512 when padding/encoding.\n- If you want to encode/pad to sequences longer than 512 you can either instantiate this tokenizer with `model_max_length` or pass `max_length` when encoding/padding.\n- To avoid this warning, please instantiate this tokenizer with `model_max_length` set to your preferred value.\n  warnings.warn(\n",
          "output_type": "stream"
        },
        {
          "name": "stdout",
          "text": "Generated text: with Hermione, along with Harry and Hermione play near the school. Harry and Hermione get together after school, as do Hermione and Harry play beside the school.\n",
          "output_type": "stream"
        }
      ],
      "id": "YGdTk7zUVeGS"
    },
    {
      "cell_type": "code",
      "source": [
        "#Data Loading and Data Cleaning\n",
        "script_files = [\n",
        "                \"/kaggle/input/books-dataset-text-generation/Book 1.txt\",\n",
        "                \"/kaggle/input/books-dataset-text-generation/Book 2.txt\",\n",
        "                \"/kaggle/input/books-dataset-text-generation/Book 3.txt\",\n",
        "                \"/kaggle/input/books-dataset-text-generation/Book 4.txt\",\n",
        "                \"/kaggle/input/books-dataset-text-generation/Book 5.txt\",\n",
        "                \"/kaggle/input/books-dataset-text-generation/Book 6.txt\",\n",
        "                \"/kaggle/input/books-dataset-text-generation/Book 7.txt\"\n",
        "                ]\n",
        "text_data=\"\"\n",
        "for script in script_files:\n",
        "    with open(script, 'r', encoding='utf-8') as file:\n",
        "        text = file.read()\n",
        "        text = re.sub(r\"[^\\w\\s]\", \"\", text)\n",
        "        text = re.sub(r\"\\s+\", \" \", text)\n",
        "        text_data=text_data+text\n",
        "        text_data = text_data.strip()\n",
        "        file.close()\n",
        "#Save cleaned data in a text file\n",
        "data_file = open('/kaggle/working/cleaned_text_data.txt', 'w')\n",
        "data_file.write(text_data)\n",
        "data_file.close()"
      ],
      "metadata": {
        "id": "539e6c56",
        "execution": {
          "iopub.status.busy": "2023-10-15T11:01:15.531302Z",
          "iopub.execute_input": "2023-10-15T11:01:15.531667Z",
          "iopub.status.idle": "2023-10-15T11:01:16.390335Z",
          "shell.execute_reply.started": "2023-10-15T11:01:15.531639Z",
          "shell.execute_reply": "2023-10-15T11:01:16.389380Z"
        },
        "trusted": true
      },
      "execution_count": null,
      "outputs": [],
      "id": "539e6c56"
    },
    {
      "cell_type": "code",
      "source": [
        "#Location of cleaned data\n",
        "data_file= '/kaggle/working/cleaned_text_data.txt'"
      ],
      "metadata": {
        "id": "33355668",
        "execution": {
          "iopub.status.busy": "2023-10-15T11:01:16.847250Z",
          "iopub.execute_input": "2023-10-15T11:01:16.847930Z",
          "iopub.status.idle": "2023-10-15T11:01:16.851712Z",
          "shell.execute_reply.started": "2023-10-15T11:01:16.847898Z",
          "shell.execute_reply": "2023-10-15T11:01:16.850828Z"
        },
        "trusted": true
      },
      "execution_count": null,
      "outputs": [],
      "id": "33355668"
    },
    {
      "cell_type": "code",
      "source": [
        "#Size of text data\n",
        "len(text_data)"
      ],
      "metadata": {
        "colab": {
          "base_uri": "https://localhost:8080/"
        },
        "id": "120217c7",
        "outputId": "c30591da-8a51-4dd3-d1a4-435ce69f29a6",
        "scrolled": true,
        "execution": {
          "iopub.status.busy": "2023-10-15T11:01:17.155659Z",
          "iopub.execute_input": "2023-10-15T11:01:17.156777Z",
          "iopub.status.idle": "2023-10-15T11:01:17.163566Z",
          "shell.execute_reply.started": "2023-10-15T11:01:17.156736Z",
          "shell.execute_reply": "2023-10-15T11:01:17.162582Z"
        },
        "trusted": true
      },
      "execution_count": null,
      "outputs": [
        {
          "execution_count": 8,
          "output_type": "execute_result",
          "data": {
            "text/plain": "6182371"
          },
          "metadata": {}
        }
      ],
      "id": "120217c7"
    },
    {
      "cell_type": "code",
      "source": [
        "tokenizer = T5Tokenizer.from_pretrained(\"t5-base\")\n",
        "#Tokenize the dataset\n",
        "dataset = TextDataset(tokenizer=tokenizer,file_path=data_file,block_size=128)\n",
        "\n",
        "data_collator = DataCollatorForLanguageModeling(tokenizer=tokenizer,mlm=False)"
      ],
      "metadata": {
        "colab": {
          "base_uri": "https://localhost:8080/"
        },
        "id": "2b111ee9",
        "outputId": "fda498cf-d41d-4f32-f315-d4d897b38c0c",
        "scrolled": true,
        "execution": {
          "iopub.status.busy": "2023-10-15T11:01:23.086794Z",
          "iopub.execute_input": "2023-10-15T11:01:23.087116Z",
          "iopub.status.idle": "2023-10-15T11:01:28.990910Z",
          "shell.execute_reply.started": "2023-10-15T11:01:23.087092Z",
          "shell.execute_reply": "2023-10-15T11:01:28.989954Z"
        },
        "trusted": true
      },
      "execution_count": null,
      "outputs": [
        {
          "name": "stderr",
          "text": "/opt/conda/lib/python3.10/site-packages/transformers/models/t5/tokenization_t5.py:220: FutureWarning: This tokenizer was incorrectly instantiated with a model max length of 512 which will be corrected in Transformers v5.\nFor now, this behavior is kept to avoid breaking backwards compatibility when padding/encoding with `truncation is True`.\n- Be aware that you SHOULD NOT rely on t5-base automatically truncating your input to 512 when padding/encoding.\n- If you want to encode/pad to sequences longer than 512 you can either instantiate this tokenizer with `model_max_length` or pass `max_length` when encoding/padding.\n- To avoid this warning, please instantiate this tokenizer with `model_max_length` set to your preferred value.\n  warnings.warn(\nYou are using the default legacy behaviour of the <class 'transformers.models.t5.tokenization_t5.T5Tokenizer'>. If you see this, DO NOT PANIC! This is expected, and simply means that the `legacy` (previous) behavior will be used so nothing changes for you. If you want to use the new behaviour, set `legacy=False`. This should only be set if you understand what it means, and thouroughly read the reason why this was added as explained in https://github.com/huggingface/transformers/pull/24565\n/opt/conda/lib/python3.10/site-packages/transformers/data/datasets/language_modeling.py:53: FutureWarning: This dataset will be removed from the library soon, preprocessing should be handled with the 🤗 Datasets library. You can have a look at this example script for pointers: https://github.com/huggingface/transformers/blob/main/examples/pytorch/language-modeling/run_mlm.py\n  warnings.warn(\n",
          "output_type": "stream"
        }
      ],
      "id": "2b111ee9"
    },
    {
      "cell_type": "markdown",
      "source": [
        "## Define Required Functions"
      ],
      "metadata": {
        "id": "092db125"
      },
      "id": "092db125"
    },
    {
      "cell_type": "code",
      "source": [
        "#Define function to load and tokenize the dataset\n",
        "def load_dataset(file_path, tokenizer, block_size = 128):\n",
        "    dataset = TextDataset(\n",
        "        tokenizer = tokenizer,\n",
        "        file_path = file_path,\n",
        "        block_size = block_size,\n",
        "    )\n",
        "    return dataset\n",
        "\n",
        "#Function to load data collator for language modelling\n",
        "def load_data_collator(tokenizer, mlm = False):\n",
        "    data_collator = DataCollatorForLanguageModeling(\n",
        "        tokenizer=tokenizer,\n",
        "        mlm=mlm,\n",
        "    )\n",
        "    return data_collator\n",
        "\n",
        "#Function to train the model\n",
        "def train(train_file_path,model_name,output_dir,overwrite_output_dir,\n",
        "          per_device_train_batch_size,\n",
        "          num_train_epochs,learning_rate):\n",
        "\n",
        "    tokenizer = T5Tokenizer.from_pretrained(\"t5-base\")\n",
        "    train_dataset = load_dataset(train_file_path, tokenizer)\n",
        "    data_collator = load_data_collator(tokenizer)\n",
        "\n",
        "    tokenizer.save_pretrained(output_dir)\n",
        "\n",
        "    model = T5ForConditionalGeneration.from_pretrained(\"t5-base\").to(device_name)\n",
        "\n",
        "    #Define training arguments\n",
        "    training_args = TrainingArguments(\n",
        "        output_dir=output_dir,\n",
        "        overwrite_output_dir=overwrite_output_dir,\n",
        "        per_device_train_batch_size=per_device_train_batch_size,\n",
        "        num_train_epochs=num_train_epochs,logging_steps=100, learning_rate = learning_rate)\n",
        "    #Trainer function to train the model\n",
        "    trainer = Trainer(model=model,args=training_args,data_collator=data_collator,train_dataset=train_dataset)\n",
        "\n",
        "    trainer.train()\n",
        "    #Save the model\n",
        "    trainer.save_model()\n",
        "    return trainer\n",
        "\n"
      ],
      "metadata": {
        "id": "310dcc2f",
        "scrolled": true,
        "execution": {
          "iopub.status.busy": "2023-10-15T11:01:36.015434Z",
          "iopub.execute_input": "2023-10-15T11:01:36.015800Z",
          "iopub.status.idle": "2023-10-15T11:01:36.023099Z",
          "shell.execute_reply.started": "2023-10-15T11:01:36.015774Z",
          "shell.execute_reply": "2023-10-15T11:01:36.022189Z"
        },
        "trusted": true
      },
      "execution_count": null,
      "outputs": [],
      "id": "310dcc2f"
    },
    {
      "cell_type": "markdown",
      "source": [
        "### Fine tune GPT-2 model with learning rate 0.0001 (Model 1)"
      ],
      "metadata": {
        "id": "8c1c9228"
      },
      "id": "8c1c9228"
    },
    {
      "cell_type": "code",
      "source": [
        "#Setting parameters\n",
        "train_file_path = data_file\n",
        "model_name = 't5'\n",
        "output_dir = 'saved_model'\n",
        "overwrite_output_dir = True\n",
        "per_device_train_batch_size = 32\n",
        "num_train_epochs = 2\n",
        "learning_rate = 0.0001"
      ],
      "metadata": {
        "id": "57bf4b33",
        "execution": {
          "iopub.status.busy": "2023-10-15T11:01:43.078275Z",
          "iopub.execute_input": "2023-10-15T11:01:43.078632Z",
          "iopub.status.idle": "2023-10-15T11:01:43.083567Z",
          "shell.execute_reply.started": "2023-10-15T11:01:43.078605Z",
          "shell.execute_reply": "2023-10-15T11:01:43.082344Z"
        },
        "trusted": true
      },
      "execution_count": null,
      "outputs": [],
      "id": "57bf4b33"
    },
    {
      "cell_type": "code",
      "source": [
        "#Calling train function to train the model\n",
        "print(\"Learning Rate = \", learning_rate)\n",
        "trainer = train(train_file_path=train_file_path,model_name=model_name,\n",
        "                output_dir=output_dir,\n",
        "                overwrite_output_dir=overwrite_output_dir,\n",
        "                per_device_train_batch_size=per_device_train_batch_size,\n",
        "                num_train_epochs=num_train_epochs, learning_rate=learning_rate)"
      ],
      "metadata": {
        "colab": {
          "base_uri": "https://localhost:8080/",
          "height": 1000
        },
        "id": "34ed41be",
        "outputId": "5cb11844-0614-4e43-e0ec-6d0ad39ceaa6",
        "execution": {
          "iopub.status.busy": "2023-10-15T11:01:44.181823Z",
          "iopub.execute_input": "2023-10-15T11:01:44.182144Z",
          "iopub.status.idle": "2023-10-15T11:14:49.905012Z",
          "shell.execute_reply.started": "2023-10-15T11:01:44.182119Z",
          "shell.execute_reply": "2023-10-15T11:14:49.903827Z"
        },
        "trusted": true
      },
      "execution_count": null,
      "outputs": [
        {
          "name": "stdout",
          "text": "Learning Rate =  0.0001\n",
          "output_type": "stream"
        },
        {
          "name": "stderr",
          "text": "\u001b[34m\u001b[1mwandb\u001b[0m: Logging into wandb.ai. (Learn how to deploy a W&B server locally: https://wandb.me/wandb-server)\n\u001b[34m\u001b[1mwandb\u001b[0m: You can find your API key in your browser here: https://wandb.ai/authorize\n\u001b[34m\u001b[1mwandb\u001b[0m: Paste an API key from your profile and hit enter, or press ctrl+c to quit:",
          "output_type": "stream"
        },
        {
          "output_type": "stream",
          "name": "stdin",
          "text": "  ········································\n"
        },
        {
          "name": "stderr",
          "text": "\u001b[34m\u001b[1mwandb\u001b[0m: Appending key for api.wandb.ai to your netrc file: /root/.netrc\n",
          "output_type": "stream"
        },
        {
          "output_type": "display_data",
          "data": {
            "text/plain": "<IPython.core.display.HTML object>",
            "text/html": "wandb version 0.15.12 is available!  To upgrade, please run:\n $ pip install wandb --upgrade"
          },
          "metadata": {}
        },
        {
          "output_type": "display_data",
          "data": {
            "text/plain": "<IPython.core.display.HTML object>",
            "text/html": "Tracking run with wandb version 0.15.9"
          },
          "metadata": {}
        },
        {
          "output_type": "display_data",
          "data": {
            "text/plain": "<IPython.core.display.HTML object>",
            "text/html": "Run data is saved locally in <code>/kaggle/working/wandb/run-20231015_110202-pasz0yf9</code>"
          },
          "metadata": {}
        },
        {
          "output_type": "display_data",
          "data": {
            "text/plain": "<IPython.core.display.HTML object>",
            "text/html": "Syncing run <strong><a href='https://wandb.ai/karwasraprashant10/huggingface/runs/pasz0yf9' target=\"_blank\">clear-sound-56</a></strong> to <a href='https://wandb.ai/karwasraprashant10/huggingface' target=\"_blank\">Weights & Biases</a> (<a href='https://wandb.me/run' target=\"_blank\">docs</a>)<br/>"
          },
          "metadata": {}
        },
        {
          "output_type": "display_data",
          "data": {
            "text/plain": "<IPython.core.display.HTML object>",
            "text/html": " View project at <a href='https://wandb.ai/karwasraprashant10/huggingface' target=\"_blank\">https://wandb.ai/karwasraprashant10/huggingface</a>"
          },
          "metadata": {}
        },
        {
          "output_type": "display_data",
          "data": {
            "text/plain": "<IPython.core.display.HTML object>",
            "text/html": " View run at <a href='https://wandb.ai/karwasraprashant10/huggingface/runs/pasz0yf9' target=\"_blank\">https://wandb.ai/karwasraprashant10/huggingface/runs/pasz0yf9</a>"
          },
          "metadata": {}
        },
        {
          "output_type": "display_data",
          "data": {
            "text/plain": "<IPython.core.display.HTML object>",
            "text/html": "\n    <div>\n      \n      <progress value='746' max='746' style='width:300px; height:20px; vertical-align: middle;'></progress>\n      [746/746 12:10, Epoch 2/2]\n    </div>\n    <table border=\"1\" class=\"dataframe\">\n  <thead>\n <tr style=\"text-align: left;\">\n      <th>Step</th>\n      <th>Training Loss</th>\n    </tr>\n  </thead>\n  <tbody>\n    <tr>\n      <td>100</td>\n      <td>0.158500</td>\n    </tr>\n    <tr>\n      <td>200</td>\n      <td>0.004200</td>\n    </tr>\n    <tr>\n      <td>300</td>\n      <td>0.002600</td>\n    </tr>\n    <tr>\n      <td>400</td>\n      <td>0.002200</td>\n    </tr>\n    <tr>\n      <td>500</td>\n      <td>0.001700</td>\n    </tr>\n    <tr>\n      <td>600</td>\n      <td>0.001600</td>\n    </tr>\n    <tr>\n      <td>700</td>\n      <td>0.001400</td>\n    </tr>\n  </tbody>\n</table><p>"
          },
          "metadata": {}
        }
      ],
      "id": "34ed41be"
    },
    {
      "cell_type": "markdown",
      "source": [
        "### Visualize the training logs for Model 1"
      ],
      "metadata": {
        "id": "ecd381c8"
      },
      "id": "ecd381c8"
    },
    {
      "cell_type": "code",
      "source": [
        "#Print the model training logs\n",
        "trainer.state.log_history"
      ],
      "metadata": {
        "colab": {
          "base_uri": "https://localhost:8080/"
        },
        "id": "3f91a8dd",
        "outputId": "ded895a0-a334-4f78-fc50-16550ba26cc7",
        "execution": {
          "iopub.status.busy": "2023-10-15T11:15:04.271966Z",
          "iopub.execute_input": "2023-10-15T11:15:04.272303Z",
          "iopub.status.idle": "2023-10-15T11:15:04.282793Z",
          "shell.execute_reply.started": "2023-10-15T11:15:04.272276Z",
          "shell.execute_reply": "2023-10-15T11:15:04.281885Z"
        },
        "trusted": true
      },
      "execution_count": null,
      "outputs": [
        {
          "execution_count": 13,
          "output_type": "execute_result",
          "data": {
            "text/plain": "[{'loss': 0.1585,\n  'learning_rate': 8.65951742627346e-05,\n  'epoch': 0.27,\n  'step': 100},\n {'loss': 0.0042,\n  'learning_rate': 7.319034852546918e-05,\n  'epoch': 0.54,\n  'step': 200},\n {'loss': 0.0026,\n  'learning_rate': 5.978552278820375e-05,\n  'epoch': 0.8,\n  'step': 300},\n {'loss': 0.0022,\n  'learning_rate': 4.638069705093834e-05,\n  'epoch': 1.07,\n  'step': 400},\n {'loss': 0.0017,\n  'learning_rate': 3.297587131367292e-05,\n  'epoch': 1.34,\n  'step': 500},\n {'loss': 0.0016,\n  'learning_rate': 1.9571045576407505e-05,\n  'epoch': 1.61,\n  'step': 600},\n {'loss': 0.0014,\n  'learning_rate': 6.1662198391420915e-06,\n  'epoch': 1.88,\n  'step': 700},\n {'train_runtime': 774.9704,\n  'train_samples_per_second': 30.793,\n  'train_steps_per_second': 0.963,\n  'total_flos': 3633042775080960.0,\n  'train_loss': 0.023159460401806692,\n  'epoch': 2.0,\n  'step': 746}]"
          },
          "metadata": {}
        }
      ],
      "id": "3f91a8dd"
    },
    {
      "cell_type": "code",
      "source": [
        "#Store steps, loss and epochs data from training logs\n",
        "steps = []\n",
        "loss =[]\n",
        "epochs=[]\n",
        "for i in range(len(trainer.state.log_history)):\n",
        "    steps.append(trainer.state.log_history[i][\"step\"])\n",
        "for i in range(len(trainer.state.log_history)):\n",
        "    epochs.append(trainer.state.log_history[i][\"epoch\"])\n"
      ],
      "metadata": {
        "id": "eb60d48b",
        "execution": {
          "iopub.status.busy": "2023-10-15T11:15:07.618297Z",
          "iopub.execute_input": "2023-10-15T11:15:07.618651Z",
          "iopub.status.idle": "2023-10-15T11:15:07.626501Z",
          "shell.execute_reply.started": "2023-10-15T11:15:07.618623Z",
          "shell.execute_reply": "2023-10-15T11:15:07.624953Z"
        },
        "trusted": true
      },
      "execution_count": null,
      "outputs": [],
      "id": "eb60d48b"
    },
    {
      "cell_type": "code",
      "source": [
        "for i in range(len(trainer.state.log_history)-1):\n",
        "    loss.append(trainer.state.log_history[i][\"loss\"])\n",
        "loss.append(trainer.state.log_history[len(trainer.state.log_history)-1][\"train_loss\"])"
      ],
      "metadata": {
        "id": "8cb498d6",
        "scrolled": true,
        "execution": {
          "iopub.status.busy": "2023-10-15T11:15:08.378019Z",
          "iopub.execute_input": "2023-10-15T11:15:08.378344Z",
          "iopub.status.idle": "2023-10-15T11:15:08.384611Z",
          "shell.execute_reply.started": "2023-10-15T11:15:08.378318Z",
          "shell.execute_reply": "2023-10-15T11:15:08.383606Z"
        },
        "trusted": true
      },
      "execution_count": null,
      "outputs": [],
      "id": "8cb498d6"
    },
    {
      "cell_type": "code",
      "source": [
        "print(epochs,steps, loss)"
      ],
      "metadata": {
        "colab": {
          "base_uri": "https://localhost:8080/"
        },
        "id": "10d38fa7",
        "outputId": "57295fc1-6e4c-4ef5-b910-94a63ec7db05",
        "execution": {
          "iopub.status.busy": "2023-10-15T11:15:09.387619Z",
          "iopub.execute_input": "2023-10-15T11:15:09.387960Z",
          "iopub.status.idle": "2023-10-15T11:15:09.396524Z",
          "shell.execute_reply.started": "2023-10-15T11:15:09.387935Z",
          "shell.execute_reply": "2023-10-15T11:15:09.395632Z"
        },
        "trusted": true
      },
      "execution_count": null,
      "outputs": [
        {
          "name": "stdout",
          "text": "[0.27, 0.54, 0.8, 1.07, 1.34, 1.61, 1.88, 2.0] [100, 200, 300, 400, 500, 600, 700, 746] [0.1585, 0.0042, 0.0026, 0.0022, 0.0017, 0.0016, 0.0014, 0.023159460401806692]\n",
          "output_type": "stream"
        }
      ],
      "id": "10d38fa7"
    },
    {
      "cell_type": "code",
      "source": [
        "#Plot the graph of training loss vs steps\n",
        "plt.plot(steps, loss)\n",
        "plt.xlabel(\"Step\")\n",
        "plt.ylabel(\"Loss\")\n",
        "plt.title(\"Loss vs. Steps\")\n",
        "plt.show()"
      ],
      "metadata": {
        "colab": {
          "base_uri": "https://localhost:8080/",
          "height": 472
        },
        "id": "4ab6eb93",
        "outputId": "b7fc7e7c-4eef-419a-fb4b-66bbfcc6aff5",
        "execution": {
          "iopub.status.busy": "2023-10-15T11:15:09.898020Z",
          "iopub.execute_input": "2023-10-15T11:15:09.898349Z",
          "iopub.status.idle": "2023-10-15T11:15:10.181941Z",
          "shell.execute_reply.started": "2023-10-15T11:15:09.898321Z",
          "shell.execute_reply": "2023-10-15T11:15:10.180944Z"
        },
        "trusted": true
      },
      "execution_count": null,
      "outputs": [
        {
          "output_type": "display_data",
          "data": {
            "text/plain": "<Figure size 640x480 with 1 Axes>",
            "image/png": "[encoded data removed]"
          },
          "metadata": {}
        }
      ],
      "id": "4ab6eb93"
    },
    {
      "cell_type": "code",
      "source": [
        "#Plot the graph of training loss vs epochs\n",
        "plt.plot(epochs, loss)\n",
        "plt.xlabel(\"Epochs\")\n",
        "plt.ylabel(\"Loss\")\n",
        "plt.title(\"Loss vs. Epochs\")\n",
        "plt.show()"
      ],
      "metadata": {
        "colab": {
          "base_uri": "https://localhost:8080/",
          "height": 472
        },
        "id": "03c41ed3",
        "outputId": "48e98b0f-afff-4408-90fb-b7891a989742",
        "scrolled": true,
        "execution": {
          "iopub.status.busy": "2023-10-15T11:15:30.246328Z",
          "iopub.execute_input": "2023-10-15T11:15:30.246678Z",
          "iopub.status.idle": "2023-10-15T11:15:30.500080Z",
          "shell.execute_reply.started": "2023-10-15T11:15:30.246651Z",
          "shell.execute_reply": "2023-10-15T11:15:30.499061Z"
        },
        "trusted": true
      },
      "execution_count": null,
      "outputs": [
        {
          "output_type": "display_data",
          "data": {
            "text/plain": "<Figure size 640x480 with 1 Axes>",
            "image/png": "[encoded data removed]"
          },
          "metadata": {}
        }
      ],
      "id": "03c41ed3"
    },
    {
      "cell_type": "markdown",
      "source": [
        "### Model Evaluation (Model 1)"
      ],
      "metadata": {
        "id": "fc60f1d0"
      },
      "id": "fc60f1d0"
    },
    {
      "cell_type": "code",
      "source": [
        "# t5\n",
        "generator = pipeline(task=\"text2text-generation\", model=\"./saved_model\", tokenizer=\"t5-base\")\n",
        "# Example input text\n",
        "input_text = \"Harry and Hermione play near the school\"\n",
        "\n",
        "# Generate text using T5\n",
        "generated_text = generator(input_text, max_length=50, do_sample=True)\n",
        "\n",
        "# Print the generated text\n",
        "print(\"Generated text:\", generated_text[0]['generated_text'])\n"
      ],
      "metadata": {
        "colab": {
          "base_uri": "https://localhost:8080/"
        },
        "id": "62f959a7",
        "outputId": "13042c5c-2cb5-469b-cd2e-00193aa7bfaf",
        "execution": {
          "iopub.status.busy": "2023-10-15T11:15:38.233949Z",
          "iopub.execute_input": "2023-10-15T11:15:38.234286Z",
          "iopub.status.idle": "2023-10-15T11:15:45.096031Z",
          "shell.execute_reply.started": "2023-10-15T11:15:38.234260Z",
          "shell.execute_reply": "2023-10-15T11:15:45.094921Z"
        },
        "trusted": true
      },
      "execution_count": null,
      "outputs": [
        {
          "name": "stderr",
          "text": "/opt/conda/lib/python3.10/site-packages/transformers/models/t5/tokenization_t5_fast.py:158: FutureWarning: This tokenizer was incorrectly instantiated with a model max length of 512 which will be corrected in Transformers v5.\nFor now, this behavior is kept to avoid breaking backwards compatibility when padding/encoding with `truncation is True`.\n- Be aware that you SHOULD NOT rely on t5-base automatically truncating your input to 512 when padding/encoding.\n- If you want to encode/pad to sequences longer than 512 you can either instantiate this tokenizer with `model_max_length` or pass `max_length` when encoding/padding.\n- To avoid this warning, please instantiate this tokenizer with `model_max_length` set to your preferred value.\n  warnings.warn(\n",
          "output_type": "stream"
        },
        {
          "name": "stdout",
          "text": "Generated text: Harry and Hermione play near the school while Harry and Hermione play near the school. Harry and Hermione play near the school. Harry and Hermione play near the school. Harry and Hermi\n",
          "output_type": "stream"
        }
      ],
      "id": "62f959a7"
    },
    {
      "cell_type": "code",
      "source": [
        "#Generate text example\n",
        "generator(\"Hogwarts\", max_length=100, num_return_sequences=1)"
      ],
      "metadata": {
        "colab": {
          "base_uri": "https://localhost:8080/"
        },
        "id": "2d8bd65f",
        "outputId": "627762ac-5245-4f9f-e001-db896249e52b",
        "scrolled": true,
        "execution": {
          "iopub.status.busy": "2023-10-13T13:41:09.596556Z",
          "iopub.execute_input": "2023-10-13T13:41:09.596881Z",
          "iopub.status.idle": "2023-10-13T13:41:14.715447Z",
          "shell.execute_reply.started": "2023-10-13T13:41:09.596855Z",
          "shell.execute_reply": "2023-10-13T13:41:14.714319Z"
        },
        "trusted": true
      },
      "execution_count": null,
      "outputs": [
        {
          "name": "stderr",
          "text": "Setting `pad_token_id` to `eos_token_id`:50256 for open-end generation.\n",
          "output_type": "stream"
        },
        {
          "execution_count": 28,
          "output_type": "execute_result",
          "data": {
            "text/plain": "[{'generated_text': 'Hogwarts had turned into a ghost town Page 83 Harry Potter and the Philosophers Stone JK Rowling The Quidditch match had now reached its zenith at last As Snape pulled out a potion he looked like a giant frog while Crabbe and Goyle looked as ridiculous as the giant rat He seemed to have forgotten that the referee hadnt looked at him at all He was so busy with his drills that he was looking at Harry nervously as though he was trying to catch the broomstick But'}]"
          },
          "metadata": {}
        }
      ],
      "id": "2d8bd65f"
    }
  ]
}